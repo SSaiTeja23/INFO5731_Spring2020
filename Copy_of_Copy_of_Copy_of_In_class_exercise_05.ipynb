{
  "nbformat": 4,
  "nbformat_minor": 0,
  "metadata": {
    "colab": {
      "name": "Copy of Copy of Copy of In_class_exercise_05.ipynb",
      "provenance": [],
      "collapsed_sections": [],
      "include_colab_link": true
    },
    "kernelspec": {
      "name": "python3",
      "display_name": "Python 3"
    }
  },
  "cells": [
    {
      "cell_type": "markdown",
      "metadata": {
        "id": "view-in-github",
        "colab_type": "text"
      },
      "source": [
        "<a href=\"https://colab.research.google.com/github/SSaiTeja23/INFO5731_Spring2020/blob/master/Copy_of_Copy_of_Copy_of_In_class_exercise_05.ipynb\" target=\"_parent\"><img src=\"https://colab.research.google.com/assets/colab-badge.svg\" alt=\"Open In Colab\"/></a>"
      ]
    },
    {
      "cell_type": "markdown",
      "metadata": {
        "id": "z7TahL04sVvR",
        "colab_type": "text"
      },
      "source": [
        "# **The fifth in-class-exercise**"
      ]
    },
    {
      "cell_type": "markdown",
      "metadata": {
        "id": "ejyZITr8sjnh",
        "colab_type": "text"
      },
      "source": [
        "## **1. Rule-based information extraction**\n",
        "\n",
        "Use any keywords related to data science, natural language processing, machine learning to search from google scholar, get the **titles** of 100 articles (either by web scraping or manually) about this topic, define a set of patterns to extract the research questions/problems, methods/algorithms/models, datasets, applications, or any other important information about this topic. "
      ]
    },
    {
      "cell_type": "code",
      "metadata": {
        "id": "XvR_O9D8sOUY",
        "colab_type": "code",
        "colab": {}
      },
      "source": [
        "# Write your code here\n",
        "import pandas as pd"
      ],
      "execution_count": 0,
      "outputs": []
    },
    {
      "cell_type": "code",
      "metadata": {
        "id": "nlNq2tGbR6T-",
        "colab_type": "code",
        "colab": {}
      },
      "source": [
        "df = pd.read_csv(\"/content/sample_data/GoogleScholar.csv\",sep='\\t', encoding='latin1')"
      ],
      "execution_count": 0,
      "outputs": []
    },
    {
      "cell_type": "code",
      "metadata": {
        "id": "hVCcbyYm6UYl",
        "colab_type": "code",
        "outputId": "091e981b-5646-4d96-d17c-49b9fe726c70",
        "colab": {
          "base_uri": "https://localhost:8080/",
          "height": 404
        }
      },
      "source": [
        "df=df.replace(u'\\xa0', u'0')\n",
        "df['Data']=df['Data'].str.replace('\\xa0',' ')\n",
        "df"
      ],
      "execution_count": 0,
      "outputs": [
        {
          "output_type": "execute_result",
          "data": {
            "text/html": [
              "<div>\n",
              "<style scoped>\n",
              "    .dataframe tbody tr th:only-of-type {\n",
              "        vertical-align: middle;\n",
              "    }\n",
              "\n",
              "    .dataframe tbody tr th {\n",
              "        vertical-align: top;\n",
              "    }\n",
              "\n",
              "    .dataframe thead th {\n",
              "        text-align: right;\n",
              "    }\n",
              "</style>\n",
              "<table border=\"1\" class=\"dataframe\">\n",
              "  <thead>\n",
              "    <tr style=\"text-align: right;\">\n",
              "      <th></th>\n",
              "      <th>Data</th>\n",
              "    </tr>\n",
              "  </thead>\n",
              "  <tbody>\n",
              "    <tr>\n",
              "      <th>0</th>\n",
              "      <td>Big data analytics</td>\n",
              "    </tr>\n",
              "    <tr>\n",
              "      <th>1</th>\n",
              "      <td>Competing on analytics</td>\n",
              "    </tr>\n",
              "    <tr>\n",
              "      <th>2</th>\n",
              "      <td>Posterior analytics</td>\n",
              "    </tr>\n",
              "    <tr>\n",
              "      <th>3</th>\n",
              "      <td>Strapdown analytics</td>\n",
              "    </tr>\n",
              "    <tr>\n",
              "      <th>4</th>\n",
              "      <td>Game analytics</td>\n",
              "    </tr>\n",
              "    <tr>\n",
              "      <th>...</th>\n",
              "      <td>...</td>\n",
              "    </tr>\n",
              "    <tr>\n",
              "      <th>95</th>\n",
              "      <td>Academic analytics and data mining in higher ...</td>\n",
              "    </tr>\n",
              "    <tr>\n",
              "      <th>96</th>\n",
              "      <td>The stratosphere platform for big data analytics</td>\n",
              "    </tr>\n",
              "    <tr>\n",
              "      <th>97</th>\n",
              "      <td>Google Analytics for measuring website perform...</td>\n",
              "    </tr>\n",
              "    <tr>\n",
              "      <th>98</th>\n",
              "      <td>Big Data consumer analytics and the transforma...</td>\n",
              "    </tr>\n",
              "    <tr>\n",
              "      <th>99</th>\n",
              "      <td>Learning analytics: The emergence of a discipline</td>\n",
              "    </tr>\n",
              "  </tbody>\n",
              "</table>\n",
              "<p>100 rows × 1 columns</p>\n",
              "</div>"
            ],
            "text/plain": [
              "                                                 Data\n",
              "0                                  Big data analytics\n",
              "1                              Competing on analytics\n",
              "2                                 Posterior analytics\n",
              "3                                 Strapdown analytics\n",
              "4                                      Game analytics\n",
              "..                                                ...\n",
              "95   Academic analytics and data mining in higher ...\n",
              "96   The stratosphere platform for big data analytics\n",
              "97  Google Analytics for measuring website perform...\n",
              "98  Big Data consumer analytics and the transforma...\n",
              "99  Learning analytics: The emergence of a discipline\n",
              "\n",
              "[100 rows x 1 columns]"
            ]
          },
          "metadata": {
            "tags": []
          },
          "execution_count": 180
        }
      ]
    },
    {
      "cell_type": "code",
      "metadata": {
        "id": "YgvUB84PgPQQ",
        "colab_type": "code",
        "colab": {}
      },
      "source": [
        "import re"
      ],
      "execution_count": 0,
      "outputs": []
    },
    {
      "cell_type": "code",
      "metadata": {
        "id": "I6-nzz6VgRc7",
        "colab_type": "code",
        "outputId": "8e11a712-fda6-477d-94b4-a7ad461edc15",
        "colab": {
          "base_uri": "https://localhost:8080/",
          "height": 134
        }
      },
      "source": [
        "\n",
        "print('First Pattern')\n",
        "for a in df['Data']:\n",
        "  pattern = re.findall('^[a-zA-Z]+\\s+(?:analytics)$',a)\n",
        "  if pattern:\n",
        "    print(re.findall('^[a-zA-Z]+\\s+(?:analytics)$',a))\n",
        "  else:\n",
        "    continue\n"
      ],
      "execution_count": 0,
      "outputs": [
        {
          "output_type": "stream",
          "text": [
            "First Pattern\n",
            "['Posterior analytics']\n",
            "['Strapdown analytics']\n",
            "['Game analytics']\n",
            "['Visual analytics']\n",
            "['Learning analytics']\n",
            "['Predictive analytics']\n"
          ],
          "name": "stdout"
        }
      ]
    },
    {
      "cell_type": "code",
      "metadata": {
        "id": "meVV4wUoAYUb",
        "colab_type": "code",
        "outputId": "6c40b804-f396-4c8a-ad4a-aca3a433b633",
        "colab": {
          "base_uri": "https://localhost:8080/",
          "height": 418
        }
      },
      "source": [
        "print('Second Pattern')\n",
        "for a in df['Data']:\n",
        "  pattern = re.findall('^[a-zA-Z]+\\s+(?:analytics)',a)\n",
        "  if pattern:\n",
        "    print(re.findall('^[a-zA-Z]+\\s+(?:analytics)',a))\n",
        "  else:\n",
        "    continue"
      ],
      "execution_count": 0,
      "outputs": [
        {
          "output_type": "stream",
          "text": [
            "Second Pattern\n",
            "['Posterior analytics']\n",
            "['Strapdown analytics']\n",
            "['Game analytics']\n",
            "['Visual analytics']\n",
            "['Learning analytics']\n",
            "['Learning analytics']\n",
            "['Predictive analytics']\n",
            "['The analytics']\n",
            "['Visual analytics']\n",
            "['Visual analytics']\n",
            "['Nanopore analytics']\n",
            "['Predictive analytics']\n",
            "['Learning analytics']\n",
            "['Advanced analytics']\n",
            "['Learning analytics']\n",
            "['The analytics']\n",
            "['Simple analytics']\n",
            "['The analytics']\n",
            "['Visual analytics']\n",
            "['Marketing analytics']\n",
            "['The analytics']\n",
            "['Learning analytics']\n",
            "['Learning analytics']\n"
          ],
          "name": "stdout"
        }
      ]
    },
    {
      "cell_type": "markdown",
      "metadata": {
        "id": "Dq_7VGmrsum4",
        "colab_type": "text"
      },
      "source": [
        "## **2. Domain-specific information extraction**\n",
        "\n",
        "For the legal case used in the data cleaning exercise: [01-05-1 Adams v Tanner.txt](https://raw.githubusercontent.com/unt-iialab/INFO5731_Spring2020/master/In_class_exercise/01-05-1%20%20Adams%20v%20Tanner.txt), use [legalNLP](https://lexpredict-lexnlp.readthedocs.io/en/latest/modules/extract/extract.html#nlp-based-extraction-methods) to extract the following inforation from the text (if the information is not exist, just print None):\n",
        "\n",
        "(1) acts, e.g., “section 1 of the Advancing Hope Act, 1986”\n",
        "\n",
        "(2) amounts, e.g., “ten pounds” or “5.8 megawatts”\n",
        "\n",
        "(3) citations, e.g., “10 U.S. 100” or “1998 S. Ct. 1”\n",
        "\n",
        "(4) companies, e.g., “Lexpredict LLC”\n",
        "\n",
        "(5) conditions, e.g., “subject to …” or “unless and until …”\n",
        "\n",
        "(6) constraints, e.g., “no more than”\n",
        "\n",
        "(7) copyright, e.g., “(C) Copyright 2000 Acme”\n",
        "\n",
        "(8) courts, e.g., “Supreme Court of New York”\n",
        "\n",
        "(9) CUSIP, e.g., “392690QT3”\n",
        "\n",
        "(10) dates, e.g., “June 1, 2017” or “2018-01-01”\n",
        "\n",
        "(11) definitions, e.g., “Term shall mean …”\n",
        "\n",
        "(12) distances, e.g., “fifteen miles”\n",
        "\n",
        "(13) durations, e.g., “ten years” or “thirty days”\n",
        "\n",
        "(14) geographic and geopolitical entities, e.g., “New York” or “Norway”\n",
        "\n",
        "(15) money and currency usages, e.g., “$5” or “10 Euro”\n",
        "\n",
        "(16) percents and rates, e.g., “10%” or “50 bps”\n",
        "\n",
        "(17) PII, e.g., “212-212-2121” or “999-999-9999”\n",
        "\n",
        "(18) ratios, e.g.,” 3:1” or “four to three”\n",
        "\n",
        "(19) regulations, e.g., “32 CFR 170”\n",
        "\n",
        "(20) trademarks, e.g., “MyApp (TM)”\n",
        "\n",
        "(21) URLs, e.g., “http://acme.com/”\n",
        "\n",
        "(22) addresses, e.g., “1999 Mount Read Blvd, Rochester, NY, USA, 14615”\n",
        "\n",
        "(23) persons, e.g., “John Doe"
      ]
    },
    {
      "cell_type": "code",
      "metadata": {
        "id": "qc7NtJrLx5tS",
        "colab_type": "code",
        "colab": {}
      },
      "source": [
        "# write your code here\n",
        "f = open(\"01-05-1  Adams v Tanner.txt\",\"r\") \n",
        "data = f.read()"
      ],
      "execution_count": 0,
      "outputs": []
    },
    {
      "cell_type": "code",
      "metadata": {
        "id": "sXE3hR6quoVX",
        "colab_type": "code",
        "outputId": "8555b130-257b-45d2-9ce4-18172f84cf69",
        "colab": {
          "base_uri": "https://localhost:8080/",
          "height": 605
        }
      },
      "source": [
        "!pip install lexnlp"
      ],
      "execution_count": 0,
      "outputs": [
        {
          "output_type": "stream",
          "text": [
            "Requirement already satisfied: lexnlp in /usr/local/lib/python3.6/dist-packages (1.4.0)\n",
            "Requirement already satisfied: Unidecode==0.4.21 in /usr/local/lib/python3.6/dist-packages (from lexnlp) (0.4.21)\n",
            "Requirement already satisfied: reporters-db==1.0.12.1 in /usr/local/lib/python3.6/dist-packages (from lexnlp) (1.0.12.1)\n",
            "Requirement already satisfied: regex==2017.9.23 in /usr/local/lib/python3.6/dist-packages (from lexnlp) (2017.9.23)\n",
            "Requirement already satisfied: scipy==1.0.0 in /usr/local/lib/python3.6/dist-packages (from lexnlp) (1.0.0)\n",
            "Requirement already satisfied: scikit-learn==0.21.3 in /usr/local/lib/python3.6/dist-packages (from lexnlp) (0.21.3)\n",
            "Requirement already satisfied: us==1.0.0 in /usr/local/lib/python3.6/dist-packages (from lexnlp) (1.0.0)\n",
            "Requirement already satisfied: typing==3.6.2 in /usr/local/lib/python3.6/dist-packages (from lexnlp) (3.6.2)\n",
            "Requirement already satisfied: datefinder-lexpredict==0.6.2 in /usr/local/lib/python3.6/dist-packages (from lexnlp) (0.6.2)\n",
            "Requirement already satisfied: requests==2.22.0 in /usr/local/lib/python3.6/dist-packages (from lexnlp) (2.22.0)\n",
            "Requirement already satisfied: pycountry==18.5.26 in /usr/local/lib/python3.6/dist-packages (from lexnlp) (18.5.26)\n",
            "Requirement already satisfied: gensim==3.4.0 in /usr/local/lib/python3.6/dist-packages (from lexnlp) (3.4.0)\n",
            "Requirement already satisfied: num2words==0.5.7 in /usr/local/lib/python3.6/dist-packages (from lexnlp) (0.5.7)\n",
            "Requirement already satisfied: pandas==0.23.4 in /usr/local/lib/python3.6/dist-packages (from lexnlp) (0.23.4)\n",
            "Requirement already satisfied: nltk==3.4.5 in /usr/local/lib/python3.6/dist-packages (from lexnlp) (3.4.5)\n",
            "Requirement already satisfied: dateparser==0.7.0 in /usr/local/lib/python3.6/dist-packages (from lexnlp) (0.7.0)\n",
            "Requirement already satisfied: six in /usr/local/lib/python3.6/dist-packages (from reporters-db==1.0.12.1->lexnlp) (1.12.0)\n",
            "Requirement already satisfied: numpy>=1.8.2 in /usr/local/lib/python3.6/dist-packages (from scipy==1.0.0->lexnlp) (1.17.5)\n",
            "Requirement already satisfied: joblib>=0.11 in /usr/local/lib/python3.6/dist-packages (from scikit-learn==0.21.3->lexnlp) (0.14.1)\n",
            "Requirement already satisfied: jellyfish==0.5.6 in /usr/local/lib/python3.6/dist-packages (from us==1.0.0->lexnlp) (0.5.6)\n",
            "Requirement already satisfied: pytz in /usr/local/lib/python3.6/dist-packages (from datefinder-lexpredict==0.6.2->lexnlp) (2018.9)\n",
            "Requirement already satisfied: python-dateutil>=2.4.2 in /usr/local/lib/python3.6/dist-packages (from datefinder-lexpredict==0.6.2->lexnlp) (2.6.1)\n",
            "Requirement already satisfied: chardet<3.1.0,>=3.0.2 in /usr/local/lib/python3.6/dist-packages (from requests==2.22.0->lexnlp) (3.0.4)\n",
            "Requirement already satisfied: urllib3!=1.25.0,!=1.25.1,<1.26,>=1.21.1 in /usr/local/lib/python3.6/dist-packages (from requests==2.22.0->lexnlp) (1.24.3)\n",
            "Requirement already satisfied: idna<2.9,>=2.5 in /usr/local/lib/python3.6/dist-packages (from requests==2.22.0->lexnlp) (2.8)\n",
            "Requirement already satisfied: certifi>=2017.4.17 in /usr/local/lib/python3.6/dist-packages (from requests==2.22.0->lexnlp) (2019.11.28)\n",
            "Requirement already satisfied: smart-open>=1.2.1 in /usr/local/lib/python3.6/dist-packages (from gensim==3.4.0->lexnlp) (1.9.0)\n",
            "Requirement already satisfied: tzlocal in /usr/local/lib/python3.6/dist-packages (from dateparser==0.7.0->lexnlp) (1.5.1)\n",
            "Requirement already satisfied: boto>=2.32 in /usr/local/lib/python3.6/dist-packages (from smart-open>=1.2.1->gensim==3.4.0->lexnlp) (2.49.0)\n",
            "Requirement already satisfied: boto3 in /usr/local/lib/python3.6/dist-packages (from smart-open>=1.2.1->gensim==3.4.0->lexnlp) (1.11.15)\n",
            "Requirement already satisfied: jmespath<1.0.0,>=0.7.1 in /usr/local/lib/python3.6/dist-packages (from boto3->smart-open>=1.2.1->gensim==3.4.0->lexnlp) (0.9.4)\n",
            "Requirement already satisfied: botocore<1.15.0,>=1.14.15 in /usr/local/lib/python3.6/dist-packages (from boto3->smart-open>=1.2.1->gensim==3.4.0->lexnlp) (1.14.15)\n",
            "Requirement already satisfied: s3transfer<0.4.0,>=0.3.0 in /usr/local/lib/python3.6/dist-packages (from boto3->smart-open>=1.2.1->gensim==3.4.0->lexnlp) (0.3.3)\n",
            "Requirement already satisfied: docutils<0.16,>=0.10 in /usr/local/lib/python3.6/dist-packages (from botocore<1.15.0,>=1.14.15->boto3->smart-open>=1.2.1->gensim==3.4.0->lexnlp) (0.15.2)\n"
          ],
          "name": "stdout"
        }
      ]
    },
    {
      "cell_type": "code",
      "metadata": {
        "id": "u43DZkfmy7pd",
        "colab_type": "code",
        "outputId": "41d02d47-ea89-4b93-834a-ba0a2649fa77",
        "colab": {
          "base_uri": "https://localhost:8080/",
          "height": 150
        }
      },
      "source": [
        "import nltk\n",
        "nltk.download('punkt')\n",
        "nltk.download('averaged_perceptron_tagger')\n",
        "nltk.download('wordnet')"
      ],
      "execution_count": 0,
      "outputs": [
        {
          "output_type": "stream",
          "text": [
            "[nltk_data] Downloading package punkt to /root/nltk_data...\n",
            "[nltk_data]   Unzipping tokenizers/punkt.zip.\n",
            "[nltk_data] Downloading package averaged_perceptron_tagger to\n",
            "[nltk_data]     /root/nltk_data...\n",
            "[nltk_data]   Unzipping taggers/averaged_perceptron_tagger.zip.\n",
            "[nltk_data] Downloading package wordnet to /root/nltk_data...\n",
            "[nltk_data]   Unzipping corpora/wordnet.zip.\n"
          ],
          "name": "stderr"
        },
        {
          "output_type": "execute_result",
          "data": {
            "text/plain": [
              "True"
            ]
          },
          "metadata": {
            "tags": []
          },
          "execution_count": 3
        }
      ]
    },
    {
      "cell_type": "code",
      "metadata": {
        "id": "2aAsQd8PrqsX",
        "colab_type": "code",
        "outputId": "e86e1bf9-b304-4686-bb07-eeaed8490a53",
        "colab": {
          "base_uri": "https://localhost:8080/",
          "height": 33
        }
      },
      "source": [
        "#1 acts\n",
        "import lexnlp.extract.en.acts\n",
        "\n",
        "if lexnlp.extract.en.acts.get_act_list(data):\n",
        "  print(lexnlp.extract.en.acts.get_act_list(data))\n",
        "else:\n",
        "  print('None')\n"
      ],
      "execution_count": 0,
      "outputs": [
        {
          "output_type": "stream",
          "text": [
            "None\n"
          ],
          "name": "stdout"
        }
      ]
    },
    {
      "cell_type": "code",
      "metadata": {
        "id": "NY6IhT1mxo7s",
        "colab_type": "code",
        "outputId": "b2aa6ce1-a41a-4110-a206-673bea99a3ba",
        "colab": {
          "base_uri": "https://localhost:8080/",
          "height": 53
        }
      },
      "source": [
        "#2 amounts\n",
        "import lexnlp.extract.en.amounts\n",
        "\n",
        "if lexnlp.extract.en.amounts.get_amounts(data):\n",
        "  print(list(lexnlp.extract.en.amounts.get_amounts(data)))\n",
        "else:\n",
        "  print('None')"
      ],
      "execution_count": 0,
      "outputs": [
        {
          "output_type": "stream",
          "text": [
            "[5.0, 740.0, 1843.0, 2.0, 1.0, 4.0, 2.0, 1821.0, 5.0, 1.0, 1840.0, 3777, 80.0, 100.0, 30, 1839.0, 741.0, 22, 1840.0, 14000, 120, 1, 1840.0, 3, 4, 1, 1.0, 1840.0, 2.0, 1.0, 361.0, 1.0, 307.0, 6.0, 604.0, 1.0, 2.0, 418.0, 422.0, 7.0, 34.0, 41.0, 167.0, 742.0, 3.0, 112.0, 207.0, 3.0, 338.0, 424.0, 5.0, 26.0, 13.0, 235.0, 8.0, 693.0, 4.0, 1821.0, 167.0, 2.0, 2.0, 216.0, 3.0, 66.0, 4.0, 130.0, 29.0, 2.0, 241.0, 2.0, 332.0, 2.0, 422.0, 9.0, 112.0, 743.0, 9.0, 39.0, 14000, 1840.0, 744.0, 5.0, 182.0, 3.0, 368.0, 1.0, 397.0, 6.0, 604.0, 1, 1821.0, 167.0, 745.0, 4.0, 746.0, 4.0, 210.0, 46.0, 747.0, 5.0, 5.0, 740.0, 1843.0, 284.0, 2019.0, 9.0, 1.0, 55.0, 266.0, 271.0, 1876.0, 2.0, 47.0, 362.0, 376.0, 1872.0, 3.0, 45.0, 329.0, 334.0, 1871.0, 4.0, 31.0, 526.0, 527.0, 1858.0, 5.0, 21.0, 333.0, 335.0, 1852.0, 6.0, 8.0, 145.0, 147.0, 1857.0, 7.0, 65.0, 256.0, 258.0, 3, 1880.0, 8.0, 4.0, 913.0, 914.0, 1887.0, 9.0, 103.0, 464.0, 1936.0, 3.0, 1.0, 9.0, 39.0, 1828.0, 2.0, 2.0, 5.0, 182.0, 1837.0, 2.0, 3.0, 9.0, 108.0, 1812.0, 6, 1, 2.0]\n"
          ],
          "name": "stdout"
        }
      ]
    },
    {
      "cell_type": "code",
      "metadata": {
        "id": "OZWZrpaLJOiI",
        "colab_type": "code",
        "outputId": "7a92fd6f-7844-406a-ae66-50f0e16f7e07",
        "colab": {
          "base_uri": "https://localhost:8080/",
          "height": 53
        }
      },
      "source": [
        "import lexnlp.extract.en.citations\n",
        "\n",
        "if lexnlp.extract.en.citations.get_citations(data):\n",
        "  print(list(lexnlp.extract.en.citations.get_citations(data)))\n",
        "else:\n",
        "  print('None')  "
      ],
      "execution_count": 0,
      "outputs": [
        {
          "output_type": "stream",
          "text": [
            "[(5, 'Ala.', 'Alabama Reports', 740, None, None, None), (5, 'Ala.', 'Alabama Reports', 740, '1843', None, None), (55, 'Ala.', 'Alabama Reports', 266, '271', None, None), (47, 'Ala.', 'Alabama Reports', 362, '376', None, None), (45, 'Ala.', 'Alabama Reports', 329, '334', None, None), (31, 'Ala.', 'Alabama Reports', 526, '527', None, None), (21, 'Ala.', 'Alabama Reports', 333, '335', None, None), (8, 'Cal.', 'California Reports', 145, '147', None, None), (65, 'Ala.', 'Alabama Reports', 256, '258', None, None), (4, 'S.W.', 'South Western Reporter', 913, '914', None, None), (103, 'A.L.R.', 'American Law Reports', 464, None, None, None), (9, 'Cow.', \"Cowen's Reports\", 39, None, None, None), (5, 'Port.', 'Alabama Reports, Porter', 182, None, None, None), (9, 'Johns.', \"Johnson's Reports\", 108, None, None, None)]\n"
          ],
          "name": "stdout"
        }
      ]
    },
    {
      "cell_type": "code",
      "metadata": {
        "id": "5fn0c3BlQHXD",
        "colab_type": "code",
        "outputId": "a9069a4c-0a81-4916-dfcc-df6716cc92d6",
        "colab": {
          "base_uri": "https://localhost:8080/",
          "height": 87
        }
      },
      "source": [
        "import lexnlp.extract.en.entities.nltk_re\n",
        "\n",
        "if lexnlp.extract.en.entities.nltk_re.get_companies(data):\n",
        "  print(list(lexnlp.extract.en.entities.nltk_re.get_companies(data)))\n",
        "else:\n",
        "  print('None')"
      ],
      "execution_count": 0,
      "outputs": [
        {
          "output_type": "stream",
          "text": [
            "/usr/local/lib/python3.6/dist-packages/sklearn/externals/joblib/__init__.py:15: DeprecationWarning: sklearn.externals.joblib is deprecated in 0.21 and will be removed in 0.23. Please import this functionality directly from joblib, which can be installed with: pip install joblib. If this warning is raised when loading pickled models, you may need to re-serialize those models with scikit-learn 0.21+.\n",
            "  warnings.warn(msg, category=DeprecationWarning)\n"
          ],
          "name": "stderr"
        },
        {
          "output_type": "stream",
          "text": [
            "[Lehman, Durr Co, (17983, 18001)]\n"
          ],
          "name": "stdout"
        }
      ]
    },
    {
      "cell_type": "code",
      "metadata": {
        "id": "D3jtm8XMUhK9",
        "colab_type": "code",
        "outputId": "5053a5d7-07b6-4d70-8c02-c044dfbc7185",
        "colab": {
          "base_uri": "https://localhost:8080/",
          "height": 53
        }
      },
      "source": [
        "import lexnlp.extract.en.conditions\n",
        "\n",
        "if lexnlp.extract.en.conditions.get_conditions(data):\n",
        "  print(list(lexnlp.extract.en.conditions.get_conditions(data)))\n",
        "else:\n",
        "  print('None')"
      ],
      "execution_count": 0,
      "outputs": [
        {
          "output_type": "stream",
          "text": [
            "[('until', '[2]\\nCreditors’ Remedies\\nLien and Priority\\nUnder St.1821, prohibiting a levy on a crop', ''), ('until', 'on a growing crop, nor does such lien attach', ''), ('if', 'It was proved by the claimants, by the production of a written contract, that Harrison, on the twenty-second of May, 1840, in consideration that the claimants were involved, as indorsers for Burton & Harrison of Sumter county, and were then exposed to an execution, amounting to upwards of fourteen thousand dollars, bargained and sold to the claimants all his growing crop of cotton &c., consisting of one hundred and twenty acres, &c. Allen Harrison promised and obliged himself to give up his crop to the use of the claimants at any time to save them from suffering as his indorsers;', ''), ('when', 'The claimants came from Tennessee, (where they resided) about the first of September, 1840, bringing with them three or four white laborers, and took possession of the crop and slaves, and with the latter, and white laborers, gathered the cotton, prepared it for market, and', ''), ('if', 'The court charged the jury, that the plaintiff had no lien by virtue of his judgment, and execution on the growing crop; that Harrison had a right to convey it, without being in any manner restrained by them; that the writing adduced, was a sale of the crop, but', ''), ('when', 'it was not, and the lien of the fieri facias would have attached upon it,', ''), ('if', 'gathered, yet', ''), ('not subject to', 'the claimants obtained possession on the first of September, and controlled the gathering of the crop, then no lien attached, and it was', ''), ('until', 'Rep, 693;] and', ''), ('until', '167,] which declares it to be lawful to levy an execution on a planted crop,', ''), ('if', 'It is admitted that the contract between the defendant in execution, and the claimants, was in good faith,', ''), ('when', 'The defendant in execution might at any time have divested the interest which the contract vested in the claimants, by discharging their liability as his indorsers, or a judgment creditor might have satisfied the lien, and', ''), ('unless', 'We will then consider the writing under which the claimants assert a right, as a mortgage with a power to take possession any time during the year,', ''), ('if', 'Conceding the truth of the facts stated in the bill of exceptions, and we think it will not follow, that the possession of the claimants is a nullity, and that the case must be considered as', ''), ('if', 'The contract contains an express undertaking to give up the crop at any time the claimants might require it for their indemnity, and', ''), ('if', 'they took possession of it in the absence of the grantor, (though without his consent,)', ''), ('if', 'he subsequently acquiesced in it, the inference would be,', ''), ('subject to', 'Mr. Dane, in remarking upon this point, says, “The American editor of Bacon’s Abridgment, says, ‘Wheat growing in the ground is a chattel, and', ''), ('until', 'The first section of the act of 1821, “To prevent sheriffs and other officers from levying executions in certain cases, enacts, that “It shall not be lawful for any sheriff or other officer, to levy a writ of fieri facias or other execution on the planted crop of a debtor, or person against whom an execution may issue,', ''), ('until', 'Now here is an express inhibition to levy an execution on a crop while it remains on, or in the ground, and', ''), ('until', 'If so, the act cited, will only have the effect of keeping the right to levy it in abeyance', ''), ('if', 'The lien and the right to levy are intimately connected, and', ''), ('until', 'That it was competent for the legislature to have made it unlawful to levy an execution on particular property,', ''), ('until', 'If the object was merely to suspend the sale,', ''), ('as soon as', 'The idea that the lien attached upon the planted crop', ''), ('until', 'the execution was delivered to the sheriff, though the right to levy it was postponed', ''), ('if', 'They do not refer to the lien,', ''), ('until', 'they did they would postpone it', ''), ('until', 'the crop was gathered; but it is the levy they relate to and postpone', ''), ('until', '**4 The right to levy an execution on a planted crop, then, being expressly taken away by the statute, the lien which is connected with and consequent upon that right, never attaches', ''), ('if', 'The circuit judge may have mistaken the law in supposing that the contract was a sale, but', ''), ('when', 'There is no assumption of any material fact in the charge; but the possession of the claimant, the time', ''), ('if', 'acquired, the gathering of the crop, &c., are all referred to the determination of the jury; who are instructed,', ''), ('until', '**4 The statute which presents the question before the court is, that “it shall not be lawful for any sheriff or other officer to levy a writ of fieei facias or other execution, on the planted crop of a debtor, or person against whom an execution may issue,', ''), ('subject to', 'The policy of the State, as indicated by these statutes, is undeniably that all the property of a debtor, real and personal, to which he has a legal title, shall be', ''), ('until', 'The mischief which the statute designed to remedy was, the sacrifice which would be necessarily made by the sale of an immature crop: the statute enables the debtor to retain it', ''), ('if', '**5', ''), ('until', 'The sheriff is forbidden to levy on a “planted crop”', ''), ('if', 'Now,', ''), ('until', 'This, I feel a thorough conviction, was not the intention of the legislature; but that it was to secure him from loss, by prohibiting a levy and sale of the crop,', ''), ('when', 'it was gathered,', ''), ('subject to', 'Growing crops as', ''), ('subject to', '464\\nGenerally, at common law, growing crops raised by annual planting, while still attached to the soil, are regarded as personal chattels,', ''), ('where', 'And', '')]\n"
          ],
          "name": "stdout"
        }
      ]
    },
    {
      "cell_type": "code",
      "metadata": {
        "id": "LLTI-MSmVK1j",
        "colab_type": "code",
        "outputId": "1730dbec-7716-4c9a-faec-d19846a0fcfb",
        "colab": {
          "base_uri": "https://localhost:8080/",
          "height": 53
        }
      },
      "source": [
        "import lexnlp.extract.en.constraints\n",
        "\n",
        "if lexnlp.extract.en.constraints.get_constraints(data):\n",
        "  print(list(lexnlp.extract.en.constraints.get_constraints(data)))\n",
        "else:\n",
        "  print('None')"
      ],
      "execution_count": 0,
      "outputs": [
        {
          "output_type": "stream",
          "text": [
            "[('after', 'on a growing crop, nor does such lien attach until', ''), ('after', '', ' and that alias and pluries fieri facias’, issued regularly up to the time levy was made; that the cotton levied on was growed on the plantation of harrison, and cultivated by the hands in his service.'), ('first of', 'the claimants came from tennessee, (where they resided) about the', ''), ('first of', 'the court charged the jury, that the plaintiff had no lien by virtue of his judgment, and execution on the growing crop; that harrison had a right to convey it, without being in any manner restrained by them; that the writing adduced, was a sale of the crop, but if it was not, and the lien of the fieri facias would have attached upon it, when gathered, yet if the claimants obtained possession on the', ''), ('after', 'it merely inhibits the levy, but the lien attaches, and a levy and sale may be made', ''), ('more than', 'taking this to be clear *744 law, and it will be seen, that the defendant in execution at the time of the levy had nothing', ''), ('before', 'it has been frequently mooted whether, at common law, corn, &c.,', ''), ('before', '**4 the statute which presents the question', ''), ('after', 'now, if the view taken by the majority of the court, is correct, the right secured to the plaintiff in execution, of levying on the crop', ''), ('before', 'tried', ''), ('before', 'tried', ''), ('before', 'tried', ''), ('before', 'tried', ''), ('before', 'tried', ''), ('before', 'tried', '')]\n"
          ],
          "name": "stdout"
        }
      ]
    },
    {
      "cell_type": "code",
      "metadata": {
        "id": "Xw4SUrb8Vinb",
        "colab_type": "code",
        "outputId": "41cab83f-e1c0-497c-a0af-ad9c60a75a6b",
        "colab": {
          "base_uri": "https://localhost:8080/",
          "height": 33
        }
      },
      "source": [
        "import lexnlp.extract.en.copyright\n",
        "\n",
        "if lexnlp.extract.en.copyright.get_copyright(data):\n",
        "  print(list(lexnlp.extract.en.copyright.get_copyright(data)))\n",
        "else:\n",
        "  print('None')"
      ],
      "execution_count": 0,
      "outputs": [
        {
          "output_type": "stream",
          "text": [
            "[('©', '2019', 'Thomson Reuters. No')]\n"
          ],
          "name": "stdout"
        }
      ]
    },
    {
      "cell_type": "code",
      "metadata": {
        "id": "by_T8GLgV8l5",
        "colab_type": "code",
        "outputId": "83a994c5-734f-4f36-def4-5bf10befe7ce",
        "colab": {
          "base_uri": "https://localhost:8080/",
          "height": 70
        }
      },
      "source": [
        "import pandas\n",
        "import lexnlp.extract.en.courts\n",
        "\n",
        "court_df = pandas.read_csv(\"https://raw.githubusercontent.com/LexPredict/lexpredict-legal-dictionary/1.0.5/en/legal/us_courts.csv\")\n",
        "\n",
        "court_config_data = []\n",
        "for _, row in court_df.iterrows():\n",
        "  c = lexnlp.extract.en.dict_entities.entity_config(row[\"Court ID\"], row[\"Court Name\"], 0, row[\"Alias\"].split(\";\") if not pandas.isnull(row[\"Alias\"]) else [])\n",
        "  court_config_data.append(c)\n",
        "for entity, alias in lexnlp.extract.en.courts.get_courts(data, court_config_data):\n",
        "  print(\"entity=\", entity)\n",
        "  print(\"alias=\", alias)"
      ],
      "execution_count": 0,
      "outputs": [
        {
          "output_type": "stream",
          "text": [
            "entity= (1, 'United States Supreme Court', 0, [('United States Supreme Court', None, False, None, ' united states supreme court '), ('Supreme Court', None, False, None, ' supreme court '), (' SCOTUS', None, False, None, ' scotus ')])\n",
            "alias= ('Supreme Court', None, False, None, ' supreme court ')\n"
          ],
          "name": "stdout"
        }
      ]
    },
    {
      "cell_type": "code",
      "metadata": {
        "id": "-SN3sJbMlSS6",
        "colab_type": "code",
        "outputId": "9a856ebb-b6fd-49de-8324-f4b89d37fa40",
        "colab": {
          "base_uri": "https://localhost:8080/",
          "height": 33
        }
      },
      "source": [
        "import lexnlp.extract.en.cusip\n",
        "\n",
        "if lexnlp.extract.en.cusip.get_cusip_list(data):\n",
        "  print(lexnlp.extract.en.cusip.get_cusip_list(data))\n",
        "else:\n",
        "  print('None')"
      ],
      "execution_count": 0,
      "outputs": [
        {
          "output_type": "stream",
          "text": [
            "None\n"
          ],
          "name": "stdout"
        }
      ]
    },
    {
      "cell_type": "code",
      "metadata": {
        "id": "t1-CUjTGmHLF",
        "colab_type": "code",
        "outputId": "d9389de4-e2f4-4a90-c098-32dc1d6f5125",
        "colab": {
          "base_uri": "https://localhost:8080/",
          "height": 154
        }
      },
      "source": [
        "import lexnlp.extract.en.dates\n",
        "\n",
        "if lexnlp.extract.en.dates.get_dates(data):\n",
        "  print(list(lexnlp.extract.en.dates.get_dates(data)))\n",
        "else:\n",
        "  print('None')"
      ],
      "execution_count": 0,
      "outputs": [
        {
          "output_type": "stream",
          "text": [
            "/usr/local/lib/python3.6/dist-packages/sklearn/base.py:306: UserWarning: Trying to unpickle estimator SelectKBest from version 0.19.0 when using version 0.21.3. This might lead to breaking code or invalid results. Use at your own risk.\n",
            "  UserWarning)\n",
            "/usr/local/lib/python3.6/dist-packages/sklearn/base.py:306: UserWarning: Trying to unpickle estimator LogisticRegressionCV from version 0.19.0 when using version 0.21.3. This might lead to breaking code or invalid results. Use at your own risk.\n",
            "  UserWarning)\n",
            "/usr/local/lib/python3.6/dist-packages/sklearn/base.py:306: UserWarning: Trying to unpickle estimator Pipeline from version 0.19.0 when using version 0.21.3. This might lead to breaking code or invalid results. Use at your own risk.\n",
            "  UserWarning)\n"
          ],
          "name": "stderr"
        },
        {
          "output_type": "stream",
          "text": [
            "[datetime.date(2020, 6, 1), datetime.date(1840, 11, 1), datetime.date(1839, 10, 1), datetime.date(1840, 5, 1), datetime.date(1840, 9, 1), datetime.date(1840, 5, 1), datetime.date(1840, 5, 1), datetime.date(2020, 12, 1), datetime.date(2020, 12, 1), datetime.date(2020, 1, 1), datetime.date(2020, 1, 1), datetime.date(2020, 1, 1), datetime.date(2020, 3, 21), datetime.date(2020, 6, 1), datetime.date(2020, 7, 1), datetime.date(2020, 11, 1), datetime.date(1887, 5, 1)]\n"
          ],
          "name": "stdout"
        }
      ]
    },
    {
      "cell_type": "code",
      "metadata": {
        "id": "g_V60Fcdn-56",
        "colab_type": "code",
        "outputId": "0a516304-dabd-469d-b2d2-b5c8f43b1024",
        "colab": {
          "base_uri": "https://localhost:8080/",
          "height": 33
        }
      },
      "source": [
        "import lexnlp.extract.en.definitions\n",
        "\n",
        "if list(lexnlp.extract.en.definitions.get_definitions(data)):\n",
        "  print(list(lexnlp.extract.en.definitions.get_definitions(data)))\n",
        "else:\n",
        "  print('None')"
      ],
      "execution_count": 0,
      "outputs": [
        {
          "output_type": "stream",
          "text": [
            "None\n"
          ],
          "name": "stdout"
        }
      ]
    },
    {
      "cell_type": "code",
      "metadata": {
        "id": "3v5l4bJMs0xw",
        "colab_type": "code",
        "outputId": "4bef0aaf-3d79-4dc1-9c46-497b52d4c046",
        "colab": {
          "base_uri": "https://localhost:8080/",
          "height": 33
        }
      },
      "source": [
        "import lexnlp.extract.en.distances\n",
        "\n",
        "if list(lexnlp.extract.en.distances.get_distances(data)):\n",
        "  print(list(lexnlp.extract.en.distances.get_distances(data)))\n",
        "else:\n",
        "  print('None')"
      ],
      "execution_count": 0,
      "outputs": [
        {
          "output_type": "stream",
          "text": [
            "None\n"
          ],
          "name": "stdout"
        }
      ]
    },
    {
      "cell_type": "code",
      "metadata": {
        "id": "0uph5mfmii6U",
        "colab_type": "code",
        "outputId": "a7d27449-c148-451d-c6fb-4f3be548bffb",
        "colab": {
          "base_uri": "https://localhost:8080/",
          "height": 33
        }
      },
      "source": [
        "import lexnlp.extract.en.durations\n",
        "\n",
        "if list(lexnlp.extract.en.durations.get_durations(data)):\n",
        "  print(list(lexnlp.extract.en.durations.get_durations(data)))\n",
        "else:\n",
        "  print('None')"
      ],
      "execution_count": 0,
      "outputs": [
        {
          "output_type": "stream",
          "text": [
            "[('second', 20.0, 0.00023148148148148146), ('year', 6.0, 2190.0)]\n"
          ],
          "name": "stdout"
        }
      ]
    },
    {
      "cell_type": "code",
      "metadata": {
        "id": "DPa5qeGEjtyJ",
        "colab_type": "code",
        "outputId": "8f99b190-2982-4871-a8db-c5d64f51d034",
        "colab": {
          "base_uri": "https://localhost:8080/",
          "height": 53
        }
      },
      "source": [
        "from lexnlp.extract.common.base_path import lexnlp_test_path\n",
        "from lexnlp.extract.en.dict_entities import get_entity_name, \\\n",
        "    prepare_alias_blacklist_dict\n",
        "from lexnlp.extract.en.geoentities import get_geoentities, load_entities_dict_by_path\n",
        "# from lexnlp.tests import lexnlp_tests \n",
        "import os\n",
        "\n",
        "# def load_entities_dict():\n",
        "#   base_path = os.path.join(lexnlp_test_path, 'lexnlp/extract/en/tests/test_geoentities')\n",
        "#   entities_fn = os.path.join(base_path, 'geoentities.csv')\n",
        "#   aliases_fn = os.path.join(base_path, 'geoaliases.csv')\n",
        "#   return load_entities_dict_by_path(entities_fn, aliases_fn)\n",
        "\n",
        "# court_config_data is the list used while extracting the data of courts above\n",
        "\n",
        "if list(get_geoentities(data,geo_config_list=court_config_data)):\n",
        "  print(list(get_geoentities(data,geo_config_list=court_config_data)))\n",
        "else:\n",
        "  print('None')"
      ],
      "execution_count": 0,
      "outputs": [
        {
          "output_type": "stream",
          "text": [
            "[((1, 'United States Supreme Court', 0, [('United States Supreme Court', None, False, None, ' united states supreme court '), ('Supreme Court', None, False, None, ' supreme court '), (' SCOTUS', None, False, None, ' scotus ')]), ('Supreme Court', None, False, None, ' supreme court '))]\n"
          ],
          "name": "stdout"
        }
      ]
    },
    {
      "cell_type": "code",
      "metadata": {
        "id": "tQRpK1tE64_N",
        "colab_type": "code",
        "outputId": "f9c11606-b93d-414a-b01e-b99a61a614d8",
        "colab": {
          "base_uri": "https://localhost:8080/",
          "height": 33
        }
      },
      "source": [
        "import lexnlp.extract.en.money\n",
        "\n",
        "if list(lexnlp.extract.en.money.get_money(data)):\n",
        "  print(list(lexnlp.extract.en.money.get_money(data)))\n",
        "else:\n",
        "  print('None')"
      ],
      "execution_count": 0,
      "outputs": [
        {
          "output_type": "stream",
          "text": [
            "[(100.0, 'USD'), (14000, 'USD'), (14000, 'USD')]\n"
          ],
          "name": "stdout"
        }
      ]
    },
    {
      "cell_type": "code",
      "metadata": {
        "id": "UkTfgQtw7Hvg",
        "colab_type": "code",
        "outputId": "8f8a6f0e-248b-4399-dc9a-c058d9d84e34",
        "colab": {
          "base_uri": "https://localhost:8080/",
          "height": 33
        }
      },
      "source": [
        "import lexnlp.extract.en.percents\n",
        "\n",
        "if list(lexnlp.extract.en.percents.get_percents(data)):\n",
        "  print(list(lexnlp.extract.en.percents.get_percents(data)))\n",
        "else:\n",
        "  print('None')"
      ],
      "execution_count": 0,
      "outputs": [
        {
          "output_type": "stream",
          "text": [
            "None\n"
          ],
          "name": "stdout"
        }
      ]
    },
    {
      "cell_type": "code",
      "metadata": {
        "id": "1Y2XnOB77dcQ",
        "colab_type": "code",
        "outputId": "1393c542-dcf4-4c5f-e5f5-e01283327c4e",
        "colab": {
          "base_uri": "https://localhost:8080/",
          "height": 33
        }
      },
      "source": [
        "import lexnlp.extract.en.pii\n",
        "\n",
        "if list(lexnlp.extract.en.pii.get_pii(data)):\n",
        "  print(list(lexnlp.extract.en.pii.get_pii(data)))\n",
        "else:\n",
        "  print('None')"
      ],
      "execution_count": 0,
      "outputs": [
        {
          "output_type": "stream",
          "text": [
            "None\n"
          ],
          "name": "stdout"
        }
      ]
    },
    {
      "cell_type": "code",
      "metadata": {
        "id": "psP35HAb7zRH",
        "colab_type": "code",
        "outputId": "76ee9f7f-4c3e-4080-bb40-6e2406a3dc3e",
        "colab": {
          "base_uri": "https://localhost:8080/",
          "height": 33
        }
      },
      "source": [
        "import lexnlp.extract.en.ratios\n",
        "\n",
        "if list(lexnlp.extract.en.ratios.get_ratios(data)):\n",
        "  print((list(lexnlp.extract.en.ratios.get_ratios(data))))\n",
        "else:\n",
        "  print('None')"
      ],
      "execution_count": 0,
      "outputs": [
        {
          "output_type": "stream",
          "text": [
            "None\n"
          ],
          "name": "stdout"
        }
      ]
    },
    {
      "cell_type": "code",
      "metadata": {
        "id": "hF6L3vYk8VN5",
        "colab_type": "code",
        "outputId": "db8b2125-6bf5-4935-ec62-5b4609143052",
        "colab": {
          "base_uri": "https://localhost:8080/",
          "height": 33
        }
      },
      "source": [
        "import lexnlp.extract.en.regulations\n",
        "\n",
        "if list(lexnlp.extract.en.regulations.get_regulations(data)):\n",
        "  print(list(lexnlp.extract.en.regulations.get_regulations(text)))\n",
        "else:\n",
        "  print('None')"
      ],
      "execution_count": 0,
      "outputs": [
        {
          "output_type": "stream",
          "text": [
            "None\n"
          ],
          "name": "stdout"
        }
      ]
    },
    {
      "cell_type": "code",
      "metadata": {
        "id": "VDLwVrBM8nUp",
        "colab_type": "code",
        "outputId": "5158a688-4465-4188-8bd2-a50b643fdd45",
        "colab": {
          "base_uri": "https://localhost:8080/",
          "height": 33
        }
      },
      "source": [
        "import lexnlp.extract.en.trademarks\n",
        "\n",
        "if list(lexnlp.extract.en.trademarks.get_trademarks(data)):\n",
        "  print(list(lexnlp.extract.en.trademarks.get_trademarks(text)))\n",
        "else:\n",
        "  print('None')"
      ],
      "execution_count": 0,
      "outputs": [
        {
          "output_type": "stream",
          "text": [
            "None\n"
          ],
          "name": "stdout"
        }
      ]
    },
    {
      "cell_type": "code",
      "metadata": {
        "id": "eag9MLS-83I5",
        "colab_type": "code",
        "outputId": "916970e5-ba08-4158-a1d3-339e22e24ce4",
        "colab": {
          "base_uri": "https://localhost:8080/",
          "height": 33
        }
      },
      "source": [
        "import lexnlp.extract.en.urls\n",
        "\n",
        "if list(lexnlp.extract.en.urls.get_urls(data)):\n",
        "  print(list(lexnlp.extract.en.urls.get_urls(data)))\n",
        "else:\n",
        "  print('None')"
      ],
      "execution_count": 0,
      "outputs": [
        {
          "output_type": "stream",
          "text": [
            "None\n"
          ],
          "name": "stdout"
        }
      ]
    },
    {
      "cell_type": "code",
      "metadata": {
        "id": "n_pNnK759mDk",
        "colab_type": "code",
        "outputId": "3343a512-b00c-41fc-8955-ba1ce46e997f",
        "colab": {
          "base_uri": "https://localhost:8080/",
          "height": 53
        }
      },
      "source": [
        "import lexnlp.extract.en.addresses\n",
        "from nltk.tokenize import word_tokenize\n",
        "\n",
        "word_tokens = word_tokenize(data)\n",
        "\n",
        "\n",
        "\n",
        "# if list(lexnlp.extract.en.addresses.get_addresses(data)):\n",
        "#   print(list(lexnlp.extract.en.addresses.get_addresses(data)))\n",
        "# else:\n",
        "#   print('None')"
      ],
      "execution_count": 0,
      "outputs": [
        {
          "output_type": "stream",
          "text": [
            "['5', 'Ala.', '740', 'Supreme', 'Court', 'of', 'Alabama', '.', 'ADAMS', 'v.', 'TANNER', 'AND', 'HORTON', '.', 'June', 'Term', ',', '1843', '.', 'Synopsis', 'WRIT', 'of', 'Error', 'to', 'the', 'Circuit', 'Court', 'of', 'Sumter', '.', 'West', 'Headnotes', '(', '2', ')', '[', '1', ']', 'Chattel', 'Mortgages', 'Crops', 'A', 'growing', 'crop', 'has', 'such', 'an', 'existence', 'as', 'to', 'be', 'the', 'subject-matter', 'of', 'a', 'mortgage', 'or', 'other', 'contract', 'which', 'passes', 'an', 'interest', 'to', 'vest', 'in', 'possession', ',', 'either', 'immediately', 'or', 'at', 'a', 'future', 'time', '.', '4', 'Cases', 'that', 'cite', 'this', 'headnote', '[', '2', ']', 'Creditors', '’', 'Remedies', 'Lien', 'and', 'Priority', 'Under', 'St.1821', ',', 'prohibiting', 'a', 'levy', 'on', 'a', 'crop', 'until', 'it', 'has', 'been', 'gathered', ',', 'no', 'lien', 'attaches', 'in', 'favor', 'of', 'a', 'fi', '.', 'fa', '.', 'on', 'a', 'growing', 'crop', ',', 'nor', 'does', 'such', 'lien', 'attach', 'until', 'after', 'the', 'crop', 'has', 'been', 'gathered', '.', '5', 'Cases', 'that', 'cite', 'this', 'headnote', '**1', 'This', 'was', 'a', 'trial', 'of', 'the', 'right', 'of', 'property', 'under', 'the', 'statute', '.', 'In', 'November', ',', '1840', ',', 'an', 'execution', 'issued', 'from', 'the', 'circuit', 'court', 'of', 'Sumter', ',', 'at', 'the', 'suit', 'of', 'the', 'plaintiff', 'in', 'error', ',', 'requiring', 'the', 'sheriff', 'of', 'that', 'county', ',', 'to', 'make', 'of', 'the', 'goods', ',', '&c.', ',', 'of', 'Allen', 'Harrison', 'and', 'others', ',', 'the', 'sum', 'of', 'thirty-seven', 'hundred', 'and', 'seventy-seven', '80-100', 'dollars', ',', 'besides', 'costs', '.', 'This', 'execution', 'was', 'levied', 'on', 'thirty', 'bales', 'of', 'cotton', ',', 'as', 'the', 'property', 'of', 'Allen', 'Harrison', ',', 'which', 'was', 'claimed', ',', 'and', 'a', 'bond', 'given', 'to', 'try', 'the', 'right', '.', 'An', 'issue', 'was', 'made', 'up', 'to', 'try', 'the', 'question', 'of', 'the', 'liability', 'of', 'the', 'cotton', 'to', 'the', 'plaintiff', '’', 's', 'execution', ',', 'and', 'submitted', 'to', 'a', 'jury', '.', 'On', 'the', 'trial', ',', 'a', 'bill', 'of', 'exceptions', 'was', 'sealed', 'at', 'the', 'instance', 'of', 'the', 'plaintiff', '.', 'The', 'plaintiff', 'proved', 'that', 'he', 'recovered', 'his', 'judgment', 'in', 'October', ',', '1839', ';', 'that', 'an', 'execution', '*741', 'was', 'issued', 'thereon', 'on', 'the', '7th', 'Nov.', 'thereafter', ',', 'and', 'that', 'alias', 'and', 'pluries', 'fieri', 'facias', '’', ',', 'issued', 'regularly', 'up', 'to', 'the', 'time', 'levy', 'was', 'made', ';', 'that', 'the', 'cotton', 'levied', 'on', 'was', 'growed', 'on', 'the', 'plantation', 'of', 'Harrison', ',', 'and', 'cultivated', 'by', 'the', 'hands', 'in', 'his', 'service', '.', 'It', 'was', 'proved', 'by', 'the', 'claimants', ',', 'by', 'the', 'production', 'of', 'a', 'written', 'contract', ',', 'that', 'Harrison', ',', 'on', 'the', 'twenty-second', 'of', 'May', ',', '1840', ',', 'in', 'consideration', 'that', 'the', 'claimants', 'were', 'involved', ',', 'as', 'indorsers', 'for', 'Burton', '&', 'Harrison', 'of', 'Sumter', 'county', ',', 'and', 'were', 'then', 'exposed', 'to', 'an', 'execution', ',', 'amounting', 'to', 'upwards', 'of', 'fourteen', 'thousand', 'dollars', ',', 'bargained', 'and', 'sold', 'to', 'the', 'claimants', 'all', 'his', 'growing', 'crop', 'of', 'cotton', '&c.', ',', 'consisting', 'of', 'one', 'hundred', 'and', 'twenty', 'acres', ',', '&c.', 'Allen', 'Harrison', 'promised', 'and', 'obliged', 'himself', 'to', 'give', 'up', 'his', 'crop', 'to', 'the', 'use', 'of', 'the', 'claimants', 'at', 'any', 'time', 'to', 'save', 'them', 'from', 'suffering', 'as', 'his', 'indorsers', ';', 'if', 'the', 'crop', 'matured', 'and', 'was', 'gathered', 'he', 'undertook', 'to', 'deliver', 'the', 'cotton', 'in', 'Gainesville', '.', 'The', 'claimants', 'came', 'from', 'Tennessee', ',', '(', 'where', 'they', 'resided', ')', 'about', 'the', 'first', 'of', 'September', ',', '1840', ',', 'bringing', 'with', 'them', 'three', 'or', 'four', 'white', 'laborers', ',', 'and', 'took', 'possession', 'of', 'the', 'crop', 'and', 'slaves', ',', 'and', 'with', 'the', 'latter', ',', 'and', 'white', 'laborers', ',', 'gathered', 'the', 'cotton', ',', 'prepared', 'it', 'for', 'market', ',', 'and', 'when', 'levied', 'on', ',', 'it', 'was', 'in', 'a', 'ware-house', 'in', 'Gainesville', '.', 'The', 'plaintiff', 'then', 'proved', 'by', 'Harrison', ',', 'that', 'the', 'claimants', 'took', 'possession', 'of', 'the', 'crop', ',', 'while', 'he', 'was', 'absent', ',', 'and', 'disposed', 'of', 'it', 'without', 'his', 'consent', '.', 'It', 'was', 'admitted', ',', 'that', 'the', 'contract', 'was', 'made', 'in', 'good', 'faith', '.', 'The', 'court', 'charged', 'the', 'jury', ',', 'that', 'the', 'plaintiff', 'had', 'no', 'lien', 'by', 'virtue', 'of', 'his', 'judgment', ',', 'and', 'execution', 'on', 'the', 'growing', 'crop', ';', 'that', 'Harrison', 'had', 'a', 'right', 'to', 'convey', 'it', ',', 'without', 'being', 'in', 'any', 'manner', 'restrained', 'by', 'them', ';', 'that', 'the', 'writing', 'adduced', ',', 'was', 'a', 'sale', 'of', 'the', 'crop', ',', 'but', 'if', 'it', 'was', 'not', ',', 'and', 'the', 'lien', 'of', 'the', 'fieri', 'facias', 'would', 'have', 'attached', 'upon', 'it', ',', 'when', 'gathered', ',', 'yet', 'if', 'the', 'claimants', 'obtained', 'possession', 'on', 'the', 'first', 'of', 'September', ',', 'and', 'controlled', 'the', 'gathering', 'of', 'the', 'crop', ',', 'then', 'no', 'lien', 'attached', ',', 'and', 'it', 'was', 'not', 'subject', 'to', 'the', 'levy', '.', 'Attorneys', 'and', 'Law', 'Firms', 'R.', 'H.', 'SMITH', ',', 'for', 'the', 'plaintiff', ',', 'in', 'error', ',', 'made', 'the', 'following', 'points.', '--', '1', '.', 'The', 'crop', 'of', 'Harrison', ',', 'must', ',', 'in', 'May', ',', '1840', ',', 'have', 'been', 'in', 'an', 'immature', 'state', ',', 'and', 'it', 'is', 'insisted', ',', 'was', 'not', 'the', 'subject', 'of', 'a', 'sale', '.', '2', '.', 'By', 'the', 'common', 'law', ',', 'a', 'growing', 'crop', 'could', 'be', 'levied', 'on', 'and', 'sold', ',', '[', '1', 'Salk', '.', 'Rep.', '361', ';', '1', 'Bos', '.', '&', 'P.', 'Rep.', '307', ';', '6', 'East', '’', 's', 'Rep.', '604', ',', 'note', '1', ';', '2', 'Johns', '.', 'Rep.', '418', ',', '422', ';', '7', 'Mass', '.', 'Rep.', '34', ',', ']', 'and', 'our', 'statue', ',', '[', '[', '[', 'Aik', '.', 'Dig', '.', '§', '41', ',', 'p.', '167', ',', ']', 'which', 'forbids', 'the', 'levy', 'of', 'an', '*742', 'execution', 'on', 'a', 'growing', 'crop', ',', 'is', 'to', 'receive', 'a', 'strict', 'construction', '.', 'It', 'merely', 'inhibits', 'the', 'levy', ',', 'but', 'the', 'lien', 'attaches', ',', 'and', 'a', 'levy', 'and', 'sale', 'may', 'be', 'made', 'after', 'the', 'crop', 'matures', ',', 'and', 'is', 'gathered', '.', '3', '.', 'The', 'contract', 'does', 'not', 'purport', 'to', 'convey', 'the', 'growing', 'crop', ',', 'but', 'is', 'a', 'mere', 'executory', 'agreement', ',', 'requiring', 'some', 'act', 'to', 'be', 'done', 'by', 'Harrison', ',', 'in', 'order', 'to', 'invest', 'the', 'claimants', 'with', 'the', 'right', 'of', 'property', '.', '[', 'Chit', '.', 'on', 'Con', '.', '112', ',', '207', ';', '3', 'Johns', '.', 'Rep.', '338', ',', '424', ';', '5', 'Wend', '.', 'Rep.', '26', ';', '13', 'Johns', '.', 'Rep.', '235', ';', '8', 'Dowl', '.', 'Rep', ',', '693', ';', ']', 'and', 'until', 'this', 'act', 'was', 'done', ',', 'the', 'crop', ',', 'no', 'matter', 'by', 'who', 'gathered', ',', 'because', 'liable', 'to', 'be', 'seized', 'for', 'Harrison', '’', 's', 'debts', '.', 'A', 'court', 'of', 'chancery', 'would', 'not', 'compel', 'a', 'specific', 'performance', 'of', 'the', 'contract', 'at', 'the', 'claimant', '’', 's', 'instance', '.', '4', '.', 'The', 'charge', 'of', 'the', 'court', 'is', 'also', 'objectionable', 'in', 'deciding', 'disputed', 'facts', '.', 'W.', 'M.', 'MURPHY', ',', 'with', 'whom', 'was', 'W.', 'G.', 'JONES', ',', 'for', 'the', 'defendant', '--', 'cited', 'the', 'act', 'of', '1821', ',', '[', 'Aik', '.', 'Dig', '.', '167', ',', ']', 'which', 'declares', 'it', 'to', 'be', 'lawful', 'to', 'levy', 'an', 'execution', 'on', 'a', 'planted', 'crop', ',', 'until', 'it', 'is', 'gathered', ',', 'and', 'contended', 'that', 'no', 'lien', 'attached', 'in', 'favor', 'of', 'the', 'plaintiff', '.', 'This', 'being', 'the', 'case', ',', 'the', 'defendant', 'in', 'execution', 'was', 'not', 'restrained', 'from', 'making', 'the', 'contract', 'which', 'he', 'did', 'with', 'the', 'claimants', '.', '**2', 'The', 'lien', 'of', 'an', 'execution', 'is', 'destroyed', 'by', 'an', 'injunction', ',', 'because', 'it', 'takes', 'away', 'the', 'right', 'to', 'levy', 'it', '.', 'In', 'short', ',', 'whenever', 'the', 'right', 'to', 'levy', 'an', 'execution', 'is', 'but', 'temporarily', 'suspended', ',', 'or', 'withdrawn', ',', 'the', 'lien', 'is', 'during', 'that', 'time', 'lost', '.', '[', '[', '[', '[', 'Whipple', 'v.', 'Foot', ',', '2', 'Johns', '.', 'Rep.', '216', ';', '3', 'Wash.', 'C.', 'C.', 'Rep.', '66', ';', '4', 'How', '.', 'Rep', '.', '130', '.', ']', 'It', 'is', 'admitted', 'that', 'the', 'contract', 'between', 'the', 'defendant', 'in', 'execution', ',', 'and', 'the', 'claimants', ',', 'was', 'in', 'good', 'faith', ',', 'if', 'so', ',', 'the', 'severance', 'and', 'removal', 'of', 'the', 'cotton', 'gave', 'the', 'latter', 'a', 'good', 'title', 'against', 'all', 'creditors', 'of', 'the', 'former', '.', 'Opinion', 'COLLIER', ',', 'C.', 'J', '.', 'There', 'can', 'be', 'no', 'doubt', 'that', 'a', 'growing', 'crop', 'has', 'such', 'an', 'existence', 'as', 'to', 'be', 'the', 'subject', 'matter', 'of', 'a', 'sale', ',', 'mortgage', ',', 'or', 'other', 'contract', 'which', 'possess', 'an', 'interest', 'to', 'vest', 'in', 'possession', ',', 'either', 'immediately', 'or', 'at', 'some', 'future', 'time', '.', 'This', 'proposition', 'has', 'frequently', 'been', 'assumed', 'as', 'unquestionable', ';', 'the', 'point', 'of', 'inquiry', 'generally', 'being', ',', 'whether', 'under', 'a', 'statute', 'of', 'frauds', ',', 'such', 'as', 'the', '29', 'Chas', '.', '2', ',', 'it', 'is', 'a', 'mere', 'chattel', ',', 'and', 'transferrable', 'by', 'parol', 'without', 'writing', '.', '[', 'Chitty', 'on', 'Con', '.', '241-2', ',', '332', ';', 'Whipple', 'v.', 'Foot', ',', '2', 'Johns', '.', 'Rep.', '422', ';', 'Stewart', 'v.', 'Doughty', ',', '9', 'Johns', '.', 'Rep.', '112', ';', '*743', 'Austin', 'v.', 'Sawyer', ',', '9', 'Cow', '.', 'Rep.', '39', '.', 'See', 'also', 'Ravesies', 'v.', 'Lee', '&', 'Alston', ',', 'at', 'last', 'term', '.', ']', 'The', 'contract', 'set', 'out', 'in', 'the', 'bill', 'of', 'exceptions', ',', 'we', 'are', 'inclined', 'to', 'think', 'evidences', 'rather', 'a', 'mortgage', 'than', 'an', 'absolute', 'sale', '.', 'It', 'recites', 'that', 'the', 'claimants', 'are', 'involved', 'as', 'indorsers', 'of', 'a', 'mercantile', 'firm', ',', 'of', 'which', 'the', 'defendant', 'was', 'a', 'partner', ';', 'that', 'an', 'execution', 'for', 'upwards', 'of', 'fourteen', 'thousand', 'dollars', 'against', 'their', 'estate', ',', 'is', 'in', 'the', 'sheriff', '’', 's', 'hands', ',', 'and', 'that', 'a', 'conveyance', 'is', 'made', 'of', 'the', 'crop', 'of', 'cotton', ',', 'corn', 'and', 'oats', ',', 'which', 'the', 'grantor', 'agrees', 'to', 'give', 'up', 'at', 'any', 'time', 'to', 'the', 'use', 'of', 'the', 'claimants', ',', 'so', 'as', 'to', 'prevent', 'injury', 'to', 'them', 'as', 'indorsers', '.', 'The', 'defendant', 'in', 'execution', 'might', 'at', 'any', 'time', 'have', 'divested', 'the', 'interest', 'which', 'the', 'contract', 'vested', 'in', 'the', 'claimants', ',', 'by', 'discharging', 'their', 'liability', 'as', 'his', 'indorsers', ',', 'or', 'a', 'judgment', 'creditor', 'might', 'have', 'satisfied', 'the', 'lien', ',', 'and', 'when', 'the', 'crop', 'was', 'gathered', ',', 'have', 'levied', 'on', ',', 'and', 'sold', 'it', 'under', 'a', 'fieri', 'facias', '.', 'We', 'will', 'then', 'consider', 'the', 'writing', 'under', 'which', 'the', 'claimants', 'assert', 'a', 'right', ',', 'as', 'a', 'mortgage', 'with', 'a', 'power', 'to', 'take', 'possession', 'any', 'time', 'during', 'the', 'year', ',', 'unless', 'they', 'should', 'be', 'relieved', 'from', 'their', 'engagements', 'as', 'indorsers', '.', 'It', 'is', 'not', 'pretended', 'that', 'their', 'liability', 'has', 'been', 'satisfied', ',', 'and', 'it', 'is', 'admitted', 'that', 'the', 'parties', 'have', 'acted', 'with', 'good', 'faith', ',', 'so', 'that', 'it', 'is', 'a', 'dry', 'question', 'of', 'law', ',', 'whether', 'the', 'right', 'of', 'the', 'plaintiff', ',', 'or', 'the', 'claimants', 'shall', 'prevail', '.', 'Assuming', 'for', 'the', 'present', 'that', 'the', 'execution', 'of', 'the', 'plaintiffs', 'did', 'not', 'operate', 'a', 'lien', 'upon', 'the', 'planted', 'crop', 'previous', 'to', 'the', 'contract', 'of', 'May', ',', '1840', ',', 'we', 'will', 'inquire', 'whether', 'the', 'defendant', 'in', 'execution', 'had', 'such', 'an', 'interest', 'as', 'could', 'be', 'levied', 'on', 'and', 'sold', '.', 'The', 'claimants', 'had', 'previous', 'to', 'the', 'levy', 'of', 'the', 'execution', 'taken', 'possession', 'of', 'the', 'crop', ',', 'prepared', 'the', 'cotton', 'for', 'market', ',', 'and', 'removed', 'it', 'to', 'a', 'ware-house', '.', 'This', 'possession', ',', 'it', 'is', 'insisted', ',', 'was', 'a', 'trespass', ',', 'because', 'it', 'was', 'acquired', 'in', 'the', 'absence', 'of', 'the', 'defendant', 'in', 'execution', ',', 'and', 'without', 'his', 'consent', 'then', 'given', '.', 'Conceding', 'the', 'truth', 'of', 'the', 'facts', 'stated', 'in', 'the', 'bill', 'of', 'exceptions', ',', 'and', 'we', 'think', 'it', 'will', 'not', 'follow', ',', 'that', 'the', 'possession', 'of', 'the', 'claimants', 'is', 'a', 'nullity', ',', 'and', 'that', 'the', 'case', 'must', 'be', 'considered', 'as', 'if', 'they', 'had', 'never', 'interfered', 'with', 'the', 'crop', '.', 'The', 'contract', 'contains', 'an', 'express', 'undertaking', 'to', 'give', 'up', 'the', 'crop', 'at', 'any', 'time', 'the', 'claimants', 'might', 'require', 'it', 'for', 'their', 'indemnity', ',', 'and', 'if', 'they', 'took', 'possession', 'of', 'it', 'in', 'the', 'absence', 'of', 'the', 'grantor', ',', '(', 'though', 'without', 'his', 'consent', ',', ')', 'if', 'he', 'subsequently', 'acquiesced', 'in', 'it', ',', 'the', 'inference', 'would', 'be', ',', 'if', 'necessary', ',', 'that', 'their', 'acts', 'were', 'approved', 'by', 'him', '.', 'Taking', 'this', 'to', 'be', 'clear', '*744', 'law', ',', 'and', 'it', 'will', 'be', 'seen', ',', 'that', 'the', 'defendant', 'in', 'execution', 'at', 'the', 'time', 'of', 'the', 'levy', 'had', 'nothing', 'more', 'than', 'a', 'mere', 'equitable', 'right', 'to', 'redeem', 'the', 'cotton', 'by', 'paying', 'the', 'debts', 'indorsed', 'by', 'the', 'claimants', '.', 'He', 'had', 'no', 'possession', 'coupled', 'with', 'this', 'equity', ',', 'but', 'only', 'a', 'naked', 'equity', ',', 'which', 'it', 'has', 'been', 'held', 'can', 'not', 'be', 'reached', 'by', 'an', 'ordinary', 'execution', '.', '[', 'Perkins', 'and', 'Elliott', 'v.', 'Mayfield', ',', '5', 'Porter', '’', 's', 'Rep', '.', '182', '.', ']', '**3', 'This', 'brings', 'us', 'back', 'to', 'the', 'question', ',', 'whether', 'the', 'execution', 'of', 'the', 'plaintiff', 'was', 'a', 'lien', 'on', 'the', 'growing', 'crop', ',', 'so', 'as', 'to', 'defeat', 'the', 'mortgage', 'to', 'the', 'claimants', '.', 'It', 'has', 'been', 'frequently', 'mooted', 'whether', ',', 'at', 'common', 'law', ',', 'corn', ',', '&c.', ',', 'before', 'it', 'is', 'gathered', ',', 'can', 'be', 'seized', 'under', 'a', 'fieri', 'facias', '.', 'Mr.', 'Dane', ',', 'in', 'remarking', 'upon', 'this', 'point', ',', 'says', ',', '“', 'The', 'American', 'editor', 'of', 'Bacon', '’', 's', 'Abridgment', ',', 'says', ',', '‘', 'Wheat', 'growing', 'in', 'the', 'ground', 'is', 'a', 'chattel', ',', 'and', 'subject', 'to', 'be', 'taken', 'in', 'execution', ';', 'and', 'the', 'sheriff', 'may', 'suffer', 'it', 'to', 'grow', 'till', 'harvest', ',', 'and', 'then', 'cut', 'and', 'sell', 'it', ';', 'or', 'may', 'perhaps', 'sell', 'it', 'growing', ',', 'and', 'the', 'purchaser', 'will', 'then', 'be', 'entitled', 'to', 'enter', ',', 'for', 'the', 'purpose', 'of', 'cutting', 'and', 'carrying', 'it', 'away.', '”', '[', 'He', 'cites', 'Whipple', 'v.', 'Foot', ',', 'ut', 'supra', ',', 'also', 'Poole', '’', 's', 'case', ',', 'Salk', '.', '368', ';', '1', 'Bos', '.', '&', 'P.', '397', ';', '6', 'East', ',', '604', ',', 'n.', ']', 'But', 'Whipple', 'v.', 'Foot', 'seems', 'to', 'be', 'the', 'only', 'case', 'that', 'supports', 'his', 'position', ',', 'that', 'unripe', 'wheat', 'or', 'corn', 'may', 'be', 'taken', 'in', 'execution', ';', 'and', 'the', 'same', 'editor', 'states', 'that', 'nothing', 'can', 'be', 'taken', 'in', 'execution', 'which', 'can', 'not', 'be', 'sold', '.', 'This', 'position', ',', 'says', 'the', 'learned', 'commentator', ',', 'is', 'no', 'doubt', 'law', '.', 'But', 'it', 'is', 'unnecessary', 'to', 'consider', 'how', 'this', 'matter', 'stands', 'at', 'common', 'law', '.', 'The', 'first', 'section', 'of', 'the', 'act', 'of', '1821', ',', '“', 'To', 'prevent', 'sheriffs', 'and', 'other', 'officers', 'from', 'levying', 'executions', 'in', 'certain', 'cases', ',', 'enacts', ',', 'that', '“', 'It', 'shall', 'not', 'be', 'lawful', 'for', 'any', 'sheriff', 'or', 'other', 'officer', ',', 'to', 'levy', 'a', 'writ', 'of', 'fieri', 'facias', 'or', 'other', 'execution', 'on', 'the', 'planted', 'crop', 'of', 'a', 'debtor', ',', 'or', 'person', 'against', 'whom', 'an', 'execution', 'may', 'issue', ',', 'until', 'the', 'crop', 'is', 'gathered.', '”', '[', 'Aik', '.', 'Dig', '.', '167', '.', ']', 'Now', 'here', 'is', 'an', 'express', 'inhibition', 'to', 'levy', 'an', 'execution', 'on', 'a', 'crop', 'while', 'it', 'remains', 'on', ',', 'or', 'in', 'the', 'ground', ',', 'and', 'until', 'it', 'is', 'severed', 'from', 'the', 'soil', 'to', 'which', 'it', 'owes', 'its', 'growth', '.', 'In', 'respect', 'to', 'property', 'thus', 'situated', ',', 'will', 'the', 'lien', 'of', 'an', 'execution', 'attach', 'eo', 'instanti', 'upon', 'its', 'being', 'placed', 'in', 'the', 'hands', 'of', 'an', 'officer', '?', 'If', 'so', ',', 'the', 'act', 'cited', ',', 'will', 'only', 'have', 'the', 'effect', 'of', 'keeping', 'the', 'right', 'to', 'levy', 'it', 'in', 'abeyance', 'until', 'the', 'crop', 'is', 'gathered', '.', 'The', 'lien', 'of', 'an', 'execution', 'does', ',', 'not', 'only', 'operate', 'so', 'as', 'to', 'prevent', 'the', 'debtor', 'from', 'disposing', 'of', 'the', 'property', 'on', 'which', 'it', 'attaches', ',', 'but', 'gives', 'to', 'the', 'creditor', 'the', 'right', 'to', 'have', 'it', 'sold', 'to', 'satisfy', 'his', '*745', 'judgment', '.', 'The', 'lien', 'and', 'the', 'right', 'to', 'levy', 'are', 'intimately', 'connected', ',', 'and', 'if', 'the', 'latter', 'be', 'taken', 'away', ',', 'or', 'suspended', ',', 'the', 'effect', ',', 'at', 'common', 'law', ',', 'is', 'the', 'destruction', 'of', 'the', 'former', '.', 'This', 'principle', 'is', 'fully', 'established', 'by', 'Mansony', 'and', 'Hurtell', 'v.', 'The', 'President', ',', '&c.', 'of', 'the', 'Bank', 'of', 'the', 'United', 'States', ',', 'and', 'its', 'assignees', ',', 'and', 'the', 'citations', 'contained', 'in', 'the', 'opinion', 'of', 'the', 'court', 'in', 'that', 'case', ',', 'as', 'also', 'in', 'my', 'opinion', 'in', 'Wood', 'v.', 'Gary', ',', 'et', 'al.', ',', 'both', 'decided', 'at', 'the', 'last', 'term', '.', 'That', 'it', 'was', 'competent', 'for', 'the', 'legislature', 'to', 'have', 'made', 'it', 'unlawful', 'to', 'levy', 'an', 'execution', 'on', 'particular', 'property', ',', 'until', 'its', 'condition', 'was', 'changed', ',', 'and', 'still', 'to', 'give', 'it', 'a', 'continuing', 'lien', ',', 'can', 'not', 'be', 'doubted', ';', 'but', 'there', 'is', 'nothing', 'in', 'the', 'act', 'in', 'question', 'to', 'indicate', 'that', 'such', 'is', 'its', 'intention', '.', 'If', 'the', 'object', 'was', 'merely', 'to', 'suspend', 'the', 'sale', ',', 'until', 'the', 'crop', 'was', 'gathered', ',', 'it', 'would', 'have', 'been', 'very', 'easy', 'to', 'have', 'said', 'so', 'in', 'explicit', 'terms', ',', 'but', 'declaring', 'as', 'the', 'statute', 'does', ',', 'in', 'totidem', 'verbis', ',', 'that', 'the', 'execution', 'shall', 'not', 'be', 'levied', ',', 'the', 'legislature', 'must', 'be', 'supposed', 'to', 'have', 'meant', 'what', 'they', 'have', 'expressed', '.', 'The', 'act', 'was', 'induced', 'by', 'the', 'doubts', 'which', 'existed', 'as', 'to', 'what', 'was', 'the', 'common', 'law', ',', 'and', 'was', 'intended', 'to', 'remove', 'those', 'doubts', 'by', 'declaring', 'what', 'should', 'be', 'the', 'law', 'in', 'future', '.', 'It', 'does', 'not', 'create', 'a', 'lien', 'or', 'authorize', 'a', 'levy', 'in', 'a', 'case', 'in', 'which', 'the', 'law', ',', 'as', 'it', 'then', 'existed', ',', 'was', 'silent', '.', 'The', 'idea', 'that', 'the', 'lien', 'attached', 'upon', 'the', 'planted', 'crop', 'as', 'soon', 'as', 'the', 'execution', 'was', 'delivered', 'to', 'the', 'sheriff', ',', 'though', 'the', 'right', 'to', 'levy', 'it', 'was', 'postponed', 'until', 'a', 'severance', 'took', 'place', ',', 'is', 'attempted', 'to', 'be', 'deduced', 'from', 'the', 'last', 'words', 'of', 'the', 'section', 'cited', ',', 'viz', ':', '“', 'until', 'the', 'crop', 'is', 'gathered.', '”', 'These', 'words', 'can', 'not', ',', 'upon', 'any', 'just', 'principles', 'of', 'construction', 'be', 'regarded', 'so', 'potent', 'as', 'to', 'give', 'to', 'an', 'execution', 'a', 'retrospective', 'effect', '.', 'They', 'do', 'not', 'refer', 'to', 'the', 'lien', ',', 'if', 'they', 'did', 'they', 'would', 'postpone', 'it', 'until', 'the', 'crop', 'was', 'gathered', ';', 'but', 'it', 'is', 'the', 'levy', 'they', 'relate', 'to', 'and', 'postpone', 'until', 'that', 'event', 'takes', 'place', '.', '**4', 'The', 'right', 'to', 'levy', 'an', 'execution', 'on', 'a', 'planted', 'crop', ',', 'then', ',', 'being', 'expressly', 'taken', 'away', 'by', 'the', 'statute', ',', 'the', 'lien', 'which', 'is', 'connected', 'with', 'and', 'consequent', 'upon', 'that', 'right', ',', 'never', 'attaches', 'until', 'severance', '.', 'This', 'being', 'the', 'case', ',', 'the', 'right', 'of', 'the', 'defendant', 'in', 'execution', 'to', 'make', 'the', 'contract', 'which', 'he', 'did', ',', 'is', 'unquestionable', ',', 'and', 'the', 'title', 'of', 'the', 'claimants', ',', 'coupled', 'as', 'it', 'was', 'with', 'the', 'possession', ',', 'was', 'paramount', 'to', 'any', 'lien', 'which', 'the', 'execution', 'could', 'exert', '.', 'The', 'circuit', 'judge', 'may', 'have', 'mistaken', 'the', 'law', 'in', 'supposing', 'that', 'the', 'contract', 'was', 'a', 'sale', ',', 'but', 'if', 'he', 'did', ',', 'an', 'error', 'in', 'that', 'respect', 'was', 'very', 'immaterial', ',', 'for', 'whether', 'a', 'sale', 'or', 'mortgage', ',', 'as', 'we', 'have', '*746', 'seen', ',', 'under', 'the', 'facts', 'of', 'the', 'case', ',', 'the', 'defendant', 'in', 'execution', 'has', 'no', 'interest', 'that', 'could', 'be', 'seised', 'and', 'sold', 'under', 'execution', '.', 'There', 'is', 'no', 'assumption', 'of', 'any', 'material', 'fact', 'in', 'the', 'charge', ';', 'but', 'the', 'possession', 'of', 'the', 'claimant', ',', 'the', 'time', 'when', 'acquired', ',', 'the', 'gathering', 'of', 'the', 'crop', ',', '&c.', ',', 'are', 'all', 'referred', 'to', 'the', 'determination', 'of', 'the', 'jury', ';', 'who', 'are', 'instructed', ',', 'if', 'they', 'find', 'them', 'according', 'to', 'the', 'evidence', 'adduced', ',', 'that', 'no', 'lien', 'ever', 'attached', 'in', 'favor', 'of', 'the', 'plaintiff', '.', 'The', 'bona', 'fides', 'of', 'the', 'contract', 'was', 'conceded', ',', 'so', 'that', 'no', 'charge', 'was', 'necessary', 'on', 'that', 'point', ',', 'and', 'it', 'could', 'not', 'with', 'propriety', 'enter', 'into', 'the', 'inquiry', 'of', 'the', 'jury', '.', 'It', 'results', 'from', 'what', 'has', 'been', 'said', ',', 'that', 'the', 'judgment', 'of', 'the', 'circuit', 'court', 'is', 'affirmed', '.', 'DISSENTING', 'OPINION', '.', 'ORMOND', ',', 'J', '.', '**4', 'The', 'statute', 'which', 'presents', 'the', 'question', 'before', 'the', 'court', 'is', ',', 'that', '“', 'it', 'shall', 'not', 'be', 'lawful', 'for', 'any', 'sheriff', 'or', 'other', 'officer', 'to', 'levy', 'a', 'writ', 'of', 'fieei', 'facias', 'or', 'other', 'execution', ',', 'on', 'the', 'planted', 'crop', 'of', 'a', 'debtor', ',', 'or', 'person', 'against', 'whom', 'an', 'execution', 'may', 'issue', ',', 'until', 'the', 'crop', 'is', 'gathered.', '”', '[', 'Clay', '’', 's', 'Dig', '.', '210', ',', '§', '46', '.', ']', 'I', 'shall', 'not', 'enter', 'upon', 'the', 'enquiry', ',', 'whether', ',', 'at', 'common', 'law', ',', 'an', 'execution', 'could', 'be', 'levied', 'upon', 'a', 'growing', 'crop', ',', 'though', 'I', 'apprehend', ',', 'it', 'would', 'not', 'be', 'difficult', 'to', 'maintain', 'the', 'affirmative', 'of', 'the', 'proposition', '.', 'It', 'is', 'sufficient', 'for', 'my', 'purpose', ',', 'that', 'the', 'statute', 'supposes', 'such', 'to', 'have', 'been', 'the', 'law', ',', 'as', 'it', 'doubtless', 'was', 'the', 'practice', '.', 'This', 'act', 'must', 'be', 'considered', 'in', 'connection', 'with', 'the', 'other', 'acts', 'upon', 'the', 'same', 'subject', '.', 'The', 'policy', 'of', 'the', 'State', ',', 'as', 'indicated', 'by', 'these', 'statutes', ',', 'is', 'undeniably', 'that', 'all', 'the', 'property', 'of', 'a', 'debtor', ',', 'real', 'and', 'personal', ',', 'to', 'which', 'he', 'has', 'a', 'legal', 'title', ',', 'shall', 'be', 'subject', 'to', 'sale', 'by', 'execution', ',', 'and', 'it', 'appears', 'to', 'me', 'that', 'it', 'would', 'be', 'difficult', 'to', 'assign', 'a', 'reason', 'for', 'the', 'exemption', 'of', 'this', 'species', 'of', 'property', 'from', 'the', 'claims', 'of', 'judgment', 'creditors', ',', 'and', 'for', 'giving', 'to', 'the', 'defendant', 'in', 'execution', 'the', 'right', 'to', 'dispose', 'of', 'it', '.', 'It', 'appears', 'to', 'me', ',', 'with', 'all', 'deference', ',', 'that', 'the', 'argument', 'that', 'because', 'the', 'sheriff', 'was', 'prohibited', 'from', 'levying', 'on', 'a', '“', '“', 'planted', 'crop', ',', '”', 'that', 'therefore', 'the', 'execution', 'had', 'lost', 'its', 'lien', ',', 'and', 'the', 'debtor', 'had', 'the', 'right', 'to', 'sell', 'it', ',', 'is', 'a', 'non', 'sequitur', '.', 'The', 'mischief', 'which', 'the', 'statute', 'designed', 'to', 'remedy', 'was', ',', 'the', 'sacrifice', 'which', 'would', 'be', 'necessarily', 'made', 'by', 'the', 'sale', 'of', 'an', 'immature', 'crop', ':', 'the', 'statute', 'enables', 'the', 'debtor', 'to', 'retain', 'it', 'until', 'it', 'matures', ',', 'and', 'by', 'severing', 'it', 'from', 'the', 'soil', 'to', 'put', 'it', '*747', 'in', 'a', 'condition', 'to', 'bring', 'its', 'value', '--', 'the', 'lien', 'in', 'the', 'mean', 'time', 'continuing', 'in', 'the', 'plaintiff', 'in', 'execution', '.', '**5', 'If', 'further', 'confirmation', 'of', 'the', 'correctness', 'of', 'this', 'view', 'were', 'necessary', ',', 'it', 'will', 'be', 'found', ',', 'I', 'think', ',', 'in', 'the', 'language', 'employed', 'by', 'the', 'legislature', '.', 'The', 'sheriff', 'is', 'forbidden', 'to', 'levy', 'on', 'a', '“', 'planted', 'crop', '”', 'until', 'the', 'crop', 'is', 'gathered', '.', 'Now', ',', 'if', 'the', 'view', 'taken', 'by', 'the', 'majority', 'of', 'the', 'court', ',', 'is', 'correct', ',', 'the', 'right', 'secured', 'to', 'the', 'plaintiff', 'in', 'execution', ',', 'of', 'levying', 'on', 'the', 'crop', 'after', 'it', 'is', 'gathered', ',', 'may', 'be', 'frustrated', ',', 'as', 'it', 'was', 'in', 'this', 'case', ',', 'by', 'a', 'sale', 'by', 'the', 'defendant', 'in', 'execution', ',', 'whilst', 'the', 'crop', 'is', 'in', 'an', 'immature', 'state', '.', 'The', 'construction', 'which', 'has', 'been', 'put', 'upon', 'the', 'statute', ',', 'involves', 'the', 'singular', 'anomaly', ',', 'that', 'the', 'legislature', ',', 'for', 'the', 'protection', 'of', 'the', 'debtor', ',', 'has', 'forbidden', 'the', 'plaintiff', 'in', 'execution', 'to', 'sell', 'the', 'property', 'of', 'his', 'debtor', ',', 'because', 'it', 'is', 'not', 'in', 'a', 'condition', 'to', 'bring', 'its', 'value', ',', 'and', 'yet', 'permits', 'the', 'debtor', ',', 'voluntarily', ',', 'by', 'a', 'sale', ',', 'to', 'submit', 'to', 'the', 'same', 'sacrifice', ',', 'for', 'his', 'own', 'benefit', '.', 'It', 'is', ',', 'in', 'effect', ',', 'a', 'gift', 'to', 'the', 'defendant', 'in', 'execution', ',', 'of', 'the', 'growing', 'crop', ',', 'provided', 'he', 'does', 'not', 'gather', 'it', 'himself', ',', 'but', 'disposes', 'of', 'it', 'in', 'its', 'then', 'condition', '.', 'This', ',', 'I', 'feel', 'a', 'thorough', 'conviction', ',', 'was', 'not', 'the', 'intention', 'of', 'the', 'legislature', ';', 'but', 'that', 'it', 'was', 'to', 'secure', 'him', 'from', 'loss', ',', 'by', 'prohibiting', 'a', 'levy', 'and', 'sale', 'of', 'the', 'crop', ',', 'until', 'it', 'was', 'gathered', ',', 'when', 'the', 'temporary', 'suspension', 'of', 'the', 'right', 'to', 'sell', ',', 'ceased', '.', 'All', 'Citations', '5', 'Ala.', '740', ',', '1843', 'WL', '284', 'End', 'of', 'Document', '©', '2019', 'Thomson', 'Reuters', '.', 'No', 'claim', 'to', 'original', 'U.S.', 'Government', 'Works', '.', 'Citing', 'References', '(', '9', ')', 'Treatment', 'Title', 'Date', 'Type', 'Depth', 'Headnote', '(', 's', ')', 'Cited', 'by', '1', '.', 'Booker', 'v.', 'Jones', '’', 's', 'Adm', '’', 'x', '55', 'Ala.', '266', ',', '271', ',', 'Ala.', 'Trover', 'for', 'Conversion', 'of', 'Cotton', ',', 'with', 'Counts', 'in', 'Case', '.', 'APPEAL', 'from', 'the', 'Circuit', 'Court', 'of', 'Hale', '.', 'Tried', 'before', 'the', 'Hon', '.', 'M.', 'J.', 'SAFFOLD', '.', 'Dec', 'Term', '1876', 'Case', '—', 'Cited', 'by', '2', '.', 'Lehman', ',', 'Durr', '&', 'Co.', 'v.', 'Marshall', '47', 'Ala.', '362', ',', '376', ',', 'Ala.', '[', 'TROVER', 'FOR', 'CONVERSION', 'OF', 'COTTON', '.', ']', 'APPEAL', 'from', 'the', 'City', 'Court', 'of', 'Montgomery', '.', 'Tried', 'before', 'Hon', '.', 'JOHN', 'D.', 'CUNNINGHAM', '.', 'Jan', 'Term', '1872', 'Case', '—', 'Cited', 'by', '3', '.', 'Bibb', 'v.', 'Janney', '45', 'Ala.', '329', ',', '334', ',', 'Ala.', '[', 'GARNISHMENT', ';', 'WAGES', ';', 'WAIVER', 'OF', 'EXEMPTION', '.', ']', 'APPEAL', 'from', 'City', 'Court', 'of', 'Montgomery', '.', 'Tried', 'before', 'Hon', '.', 'JOHN', 'D.', 'CUNNINGHAM', '.', 'Jan', 'Term', '1871', 'Case', '—', 'Cited', 'by', '4', '.', 'McKenzie', 'v.', 'Lampley', '31', 'Ala.', '526', ',', '527', ',', 'Ala.', '[', 'TRIAL', 'OF', 'RIGHT', 'OF', 'PROPERTY', 'IN', 'COTTON', '.', ']', 'APPEAL', 'from', 'the', 'Circuit', 'Court', 'of', 'Barbour', '.', 'Tried', 'before', 'the', 'Hon', '.', 'S.', 'D.', 'HALE', '.', 'Jan', 'Term', '1858', 'Case', '—', 'Cited', 'by', '5', '.', 'Evans', 'v.', 'Lamar', '21', 'Ala.', '333', ',', '335+', ',', 'Ala.', 'ERROR', 'to', 'the', 'Circuit', 'Court', 'of', 'Autauga', '.', 'Tried', 'before', 'the', 'Hon', '.', 'A', '.', 'B.', 'MOORE', '.', 'Jun', 'Term', '1852', 'Case', '—', 'Cited', 'by', '6', '.', 'Dewey', 'v.', 'Bowman', '8', 'Cal', '.', '145', ',', '147', ',', 'Cal', '.', 'The', 'judgment', 'of', 'the', 'Court', 'below', ',', 'against', 'Jacob', 'S.', 'Cohen', ',', 'should', 'be', 'reversed', ',', 'for', 'the', 'following', 'reasons', ':', 'Because', 'the', 'finding', 'of', 'the', 'Court', 'was', ',', 'so', 'far', 'as', 'Cohen', 'was', 'concerned', ',', '...', 'Jul', 'Term', '1857', 'Case', '—', 'Mentioned', 'by', '7', '.', 'Rees', 'v.', 'Coats', '65', 'Ala.', '256', ',', '258', ',', 'Ala.', 'Trover', 'for', 'Conversion', 'of', 'Three', 'Bales', 'of', 'Cotton', '.', 'APPEAL', 'from', 'the', 'Circuit', 'Court', 'of', 'Etowah', '.', 'Tried', 'before', 'the', 'Hon', '.', 'WM', '.', 'L.', 'WHITLOCK', '.', 'Nov', 'Term', '1880', 'Case', '—', 'Mentioned', 'by', '8', '.', 'Edwards', 'v.', 'Thompson', '4', 'S.W', '.', '913', ',', '914', ',', 'Tenn.', 'Appeal', 'from', 'circuit', 'court', ',', 'Weakley', 'county', '.', 'May', '1887', 'Case', '—', '—', '9', '.', 'Growing', 'crops', 'as', 'subject', 'to', 'levy', 'and', 'seizure', 'under', 'attachment', 'or', 'execution', '103', 'A.L.R', '.', '464', 'Generally', ',', 'at', 'common', 'law', ',', 'growing', 'crops', 'raised', 'by', 'annual', 'planting', ',', 'while', 'still', 'attached', 'to', 'the', 'soil', ',', 'are', 'regarded', 'as', 'personal', 'chattels', ',', 'subject', 'to', 'levy', 'and', 'seizure', 'under', 'attachment', '...', '1936', 'ALR', '—', '—', 'Table', 'of', 'Authorities', '(', '3', ')', 'Treatment', 'Referenced', 'Title', 'Type', 'Depth', 'Quoted', 'Page', 'Number', 'Mentioned', '1', '.', 'Austin', 'v.', 'Sawyer', '9', 'Cow', '.', '39', ',', 'N.Y.Sup.', ',', '1828', 'Parol', 'evidence', 'is', 'not', 'admissible', 'to', 'contradict', ',', 'or', 'substantially', 'vary', ',', 'a', 'written', 'contract', '.', 'And', 'where', 'A.', 'quit-claimed', 'land', 'to', 'W.', ',', 'on', 'which', 'a', 'crop', 'of', 'wheat', 'was', 'growing', ',', 'reserving', 'the', '...', 'Case', '2', 'Cited', '2', '.', 'Perkins', 'v.', 'Mayfield', '5', 'Port', '.', '182', ',', 'Ala.', ',', '1837', 'On', 'writ', 'of', 'error', 'to', 'the', 'Circuit', 'Court', 'of', 'Tuskaloosa', '.', 'Case', '2+', 'Mentioned', '3', '.', 'Stewart', 'v.', 'Doughty', '9', 'Johns', '.', '108', ',', 'N.Y.Sup.', ',', '1812', 'A.', 'let', 'to', 'B.', 'a', 'farm', 'for', 'six', 'years', ',', 'and', 'A.', 'agreed', '“', 'to', 'render', ',', 'yield', 'and', 'pay', 'to', 'A.', 'the', 'one', 'half', 'of', 'all', 'the', 'wheat', ',', 'rye', ',', 'corn', 'and', 'other', 'grain', ',', 'raised', 'on', 'the', 'farm', 'in', 'each', 'year', ',', 'in', 'the', '...', 'Case', '2', 'Filings', 'There', 'are', 'no', 'Filings', 'for', 'this', 'citation', '.', 'Negative', 'Treatment', 'There', 'are', 'no', 'Negative', 'Treatment', 'results', 'for', 'this', 'citation', '.', 'History', 'There', 'are', 'no', 'History', 'results', 'for', 'this', 'citation', '.']\n"
          ],
          "name": "stdout"
        }
      ]
    },
    {
      "cell_type": "code",
      "metadata": {
        "id": "ORkwvd1U7zuS",
        "colab_type": "code",
        "outputId": "3894fd85-e6f7-4a7f-f077-b33d7fcc4611",
        "colab": {
          "base_uri": "https://localhost:8080/",
          "height": 120
        }
      },
      "source": [
        "!pip install pyap"
      ],
      "execution_count": 0,
      "outputs": [
        {
          "output_type": "stream",
          "text": [
            "Collecting pyap\n",
            "\u001b[?25l  Downloading https://files.pythonhosted.org/packages/a9/23/aba40258c6a9fbe73a177653b900d6e6a8ab5413e57bda3c3d32f5f1cbd0/pyap-0.2.0-py2.py3-none-any.whl (76kB)\n",
            "\r\u001b[K     |████▎                           | 10kB 16.3MB/s eta 0:00:01\r\u001b[K     |████████▋                       | 20kB 3.1MB/s eta 0:00:01\r\u001b[K     |████████████▉                   | 30kB 4.4MB/s eta 0:00:01\r\u001b[K     |█████████████████▏              | 40kB 2.9MB/s eta 0:00:01\r\u001b[K     |█████████████████████▍          | 51kB 3.2MB/s eta 0:00:01\r\u001b[K     |█████████████████████████▊      | 61kB 3.8MB/s eta 0:00:01\r\u001b[K     |██████████████████████████████  | 71kB 4.4MB/s eta 0:00:01\r\u001b[K     |████████████████████████████████| 81kB 3.4MB/s \n",
            "\u001b[?25hInstalling collected packages: pyap\n",
            "Successfully installed pyap-0.2.0\n"
          ],
          "name": "stdout"
        }
      ]
    },
    {
      "cell_type": "code",
      "metadata": {
        "id": "NWEefRqb7SGV",
        "colab_type": "code",
        "outputId": "0e80aaf1-c816-4e64-b00e-3cdcb27e8b90",
        "colab": {
          "base_uri": "https://localhost:8080/",
          "height": 33
        }
      },
      "source": [
        "import pyap\n",
        "\n",
        "addresses = pyap.parse(data, country='US')\n",
        "adrs = []\n",
        "for address in addresses:\n",
        "  adrs.append(address)\n",
        "\n",
        "print(adrs)"
      ],
      "execution_count": 0,
      "outputs": [
        {
          "output_type": "stream",
          "text": [
            "[5 Ala. 740 Supreme Court of Alabama. ADAMS]\n"
          ],
          "name": "stdout"
        }
      ]
    },
    {
      "cell_type": "code",
      "metadata": {
        "id": "oua2sz2NvqRW",
        "colab_type": "code",
        "outputId": "8b34d99b-e2b8-48a5-a24c-dcb415c1c69a",
        "colab": {
          "base_uri": "https://localhost:8080/",
          "height": 271
        }
      },
      "source": [
        "from nltk.tag.stanford import StanfordNERTagger\n",
        "from nltk.tokenize import word_tokenize\n",
        "import nltk\n",
        "\n",
        "!wget 'https://nlp.stanford.edu/software/stanford-ner-2018-10-16.zip'\n",
        "!unzip stanford-ner-2018-10-16.zip\n",
        "\n",
        "nltk.download('punkt')\n",
        "\n",
        "st = StanfordNERTagger('/content/stanford-ner-2018-10-16/classifiers/english.all.3class.distsim.crf.ser.gz',\n",
        "                       '/content/stanford-ner-2018-10-16/stanford-ner.jar',\n",
        "                       encoding='utf-8')\n"
      ],
      "execution_count": 0,
      "outputs": [
        {
          "output_type": "stream",
          "text": [
            "--2020-03-13 02:41:50--  https://nlp.stanford.edu/software/stanford-ner-2018-10-16.zip\n",
            "Resolving nlp.stanford.edu (nlp.stanford.edu)... 171.64.67.140\n",
            "Connecting to nlp.stanford.edu (nlp.stanford.edu)|171.64.67.140|:443... connected.\n",
            "HTTP request sent, awaiting response... 200 OK\n",
            "Length: 180358328 (172M) [application/zip]\n",
            "Saving to: ‘stanford-ner-2018-10-16.zip.2’\n",
            "\n",
            "stanford-ner-2018-1 100%[===================>] 172.00M  78.8MB/s    in 2.2s    \n",
            "\n",
            "2020-03-13 02:41:52 (78.8 MB/s) - ‘stanford-ner-2018-10-16.zip.2’ saved [180358328/180358328]\n",
            "\n",
            "Archive:  stanford-ner-2018-10-16.zip\n",
            "replace stanford-ner-2018-10-16/README.txt? [y]es, [n]o, [A]ll, [N]one, [r]ename: "
          ],
          "name": "stdout"
        },
        {
          "output_type": "stream",
          "text": [
            "[nltk_data] Downloading package punkt to /root/nltk_data...\n",
            "[nltk_data]   Package punkt is already up-to-date!\n"
          ],
          "name": "stderr"
        }
      ]
    },
    {
      "cell_type": "code",
      "metadata": {
        "id": "HyanqP59yy1N",
        "colab_type": "code",
        "outputId": "f00953b3-8dad-4bde-fb1d-f228c3768aa0",
        "colab": {
          "base_uri": "https://localhost:8080/",
          "height": 1000
        }
      },
      "source": [
        "classified_text = st.tag(word_tokens)\n",
        "\n",
        "for x,y in classified_text:\n",
        "        if y == 'PERSON':\n",
        "            print(x)"
      ],
      "execution_count": 0,
      "outputs": [
        {
          "output_type": "stream",
          "text": [
            "ADAMS\n",
            "TANNER\n",
            "HORTON\n",
            "Lien\n",
            "Allen\n",
            "Harrison\n",
            "Allen\n",
            "Harrison\n",
            "Harrison\n",
            "Harrison\n",
            "Allen\n",
            "Harrison\n",
            "Harrison\n",
            "Harrison\n",
            "R.\n",
            "H.\n",
            "SMITH\n",
            "Harrison\n",
            "Salk\n",
            "Harrison\n",
            "Johns\n",
            "Harrison\n",
            "W.\n",
            "M.\n",
            "MURPHY\n",
            "W.\n",
            "G.\n",
            "JONES\n",
            "Johns\n",
            "C.\n",
            "J\n",
            "Chas\n",
            "Whipple\n",
            "Johns\n",
            "Stewart\n",
            "Doughty\n",
            "Johns\n",
            "Sawyer\n",
            "Perkins\n",
            "Elliott\n",
            "Mayfield\n",
            "Dane\n",
            "Whipple\n",
            "Poole\n",
            "Salk\n",
            "Whipple\n",
            "Mansony\n",
            "Hurtell\n",
            "Wood\n",
            "Gary\n",
            "Booker\n",
            "Jones\n",
            "M.\n",
            "J.\n",
            "SAFFOLD\n",
            "Marshall\n",
            "Montgomery\n",
            "Hon\n",
            "JOHN\n",
            "D.\n",
            "CUNNINGHAM\n",
            "Bibb\n",
            "Janney\n",
            "Hon\n",
            "JOHN\n",
            "D.\n",
            "CUNNINGHAM\n",
            "McKenzie\n",
            "Lampley\n",
            "S.\n",
            "D.\n",
            "HALE\n",
            "Evans\n",
            "Lamar\n",
            "B.\n",
            "MOORE\n",
            "Dewey\n",
            "Bowman\n",
            "Jacob\n",
            "S.\n",
            "Cohen\n",
            "Cohen\n",
            "Rees\n",
            "L.\n",
            "WHITLOCK\n",
            "Edwards\n",
            "Thompson\n",
            "Weakley\n",
            "Austin\n",
            "Sawyer\n",
            "Perkins\n",
            "Mayfield\n",
            "Stewart\n",
            "Johns\n"
          ],
          "name": "stdout"
        }
      ]
    },
    {
      "cell_type": "code",
      "metadata": {
        "id": "RbNiy6or7MzZ",
        "colab_type": "code",
        "colab": {}
      },
      "source": [
        ""
      ],
      "execution_count": 0,
      "outputs": []
    }
  ]
}